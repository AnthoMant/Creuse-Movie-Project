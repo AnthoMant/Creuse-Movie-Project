{
  "nbformat": 4,
  "nbformat_minor": 0,
  "metadata": {
    "colab": {
      "name": "Nettoyage préliminaire.ipynb",
      "provenance": [],
      "collapsed_sections": [],
      "authorship_tag": "ABX9TyNWBgbWJyZewGjQoD8KpDaO",
      "include_colab_link": true
    },
    "kernelspec": {
      "name": "python3",
      "display_name": "Python 3"
    },
    "language_info": {
      "name": "python"
    }
  },
  "cells": [
    {
      "cell_type": "markdown",
      "metadata": {
        "id": "view-in-github",
        "colab_type": "text"
      },
      "source": [
        "<a href=\"https://colab.research.google.com/github/AnthoMant/Creuse-Movie-Project/blob/main/Nettoyage_pr%C3%A9liminaire.ipynb\" target=\"_parent\"><img src=\"https://colab.research.google.com/assets/colab-badge.svg\" alt=\"Open In Colab\"/></a>"
      ]
    },
    {
      "cell_type": "code",
      "metadata": {
        "id": "J-cfVpn1jBY4"
      },
      "source": [
        "import pandas as pd\n",
        "import numpy as np"
      ],
      "execution_count": 1,
      "outputs": []
    },
    {
      "cell_type": "markdown",
      "metadata": {
        "id": "UKrARvxsgevk"
      },
      "source": [
        "#Importation des bases de données"
      ]
    },
    {
      "cell_type": "code",
      "metadata": {
        "id": "i7QFzjQcn60M"
      },
      "source": [
        "title_rating=pd.read_csv('https://datasets.imdbws.com/title.ratings.tsv.gz', sep='\\t')#Je charge mon DataSet\n",
        "\n",
        "title_basics=pd.read_csv('https://datasets.imdbws.com/title.basics.tsv.gz', sep='\\t')#Je charge mon DataSet"
      ],
      "execution_count": null,
      "outputs": []
    },
    {
      "cell_type": "markdown",
      "metadata": {
        "id": "9hz-MUB_i6TH"
      },
      "source": [
        "#Jointure entre les deux bases de données"
      ]
    },
    {
      "cell_type": "code",
      "metadata": {
        "colab": {
          "base_uri": "https://localhost:8080/"
        },
        "id": "5_mHmOvUoiMd",
        "outputId": "229220c6-65a8-43c7-9cf8-0f33d45dee03"
      },
      "source": [
        "title_rating.shape#Vérification du nombre de ligne est colonnes"
      ],
      "execution_count": 3,
      "outputs": [
        {
          "output_type": "execute_result",
          "data": {
            "text/plain": [
              "(1148911, 3)"
            ]
          },
          "metadata": {
            "tags": []
          },
          "execution_count": 3
        }
      ]
    },
    {
      "cell_type": "code",
      "metadata": {
        "colab": {
          "base_uri": "https://localhost:8080/"
        },
        "id": "1SAYUfGZolFv",
        "outputId": "1373a0f8-a625-4e33-8723-d0c4710836cb"
      },
      "source": [
        "title_basics.shape#Vérification du nombre de ligne est colonnes"
      ],
      "execution_count": 5,
      "outputs": [
        {
          "output_type": "execute_result",
          "data": {
            "text/plain": [
              "(7872543, 9)"
            ]
          },
          "metadata": {
            "tags": []
          },
          "execution_count": 5
        }
      ]
    },
    {
      "cell_type": "code",
      "metadata": {
        "id": "v6kLobGBnvnr"
      },
      "source": [
        "global_title=pd.merge(title_basics ,title_rating,how=\"left\", left_on=\"tconst\" , right_on=\"tconst\")#J'ajoute la note du film ainsi que le nombres de votes"
      ],
      "execution_count": 6,
      "outputs": []
    },
    {
      "cell_type": "markdown",
      "metadata": {
        "id": "ozDLc4SwjIRo"
      },
      "source": [
        "#Nettoyage préliminaire de la base de donnée"
      ]
    },
    {
      "cell_type": "code",
      "metadata": {
        "colab": {
          "base_uri": "https://localhost:8080/"
        },
        "id": "RL3rqMBAoa44",
        "outputId": "a22ae427-2c51-4a96-e235-0ffc4970e48a"
      },
      "source": [
        "global_title.shape#Je vérifie le nombre de lignes pour vérifier si rien n'a était supprimer"
      ],
      "execution_count": 7,
      "outputs": [
        {
          "output_type": "execute_result",
          "data": {
            "text/plain": [
              "(7872543, 11)"
            ]
          },
          "metadata": {
            "tags": []
          },
          "execution_count": 7
        }
      ]
    },
    {
      "cell_type": "markdown",
      "metadata": {
        "id": "NR_PY_GQjt9J"
      },
      "source": [
        "## Vérification des valeurs NaN"
      ]
    },
    {
      "cell_type": "code",
      "metadata": {
        "colab": {
          "base_uri": "https://localhost:8080/"
        },
        "id": "pBn8JZ0Lpgcj",
        "outputId": "1e0ac67e-7e7c-4ebc-89bc-cfc4c4dbd8ee"
      },
      "source": [
        "global_title.isna().sum()#J'observe s'il y a des valeurs NaN"
      ],
      "execution_count": 8,
      "outputs": [
        {
          "output_type": "execute_result",
          "data": {
            "text/plain": [
              "tconst                  0\n",
              "titleType               0\n",
              "primaryTitle            9\n",
              "originalTitle           9\n",
              "isAdult                 0\n",
              "startYear               0\n",
              "endYear                 0\n",
              "runtimeMinutes          0\n",
              "genres                 10\n",
              "averageRating     6723632\n",
              "numVotes          6723632\n",
              "dtype: int64"
            ]
          },
          "metadata": {
            "tags": []
          },
          "execution_count": 8
        }
      ]
    },
    {
      "cell_type": "code",
      "metadata": {
        "id": "yLneuhKfqsYo"
      },
      "source": [
        "global_title.dropna(how=\"any\",axis=0, inplace=True)#Je supprime les NaN"
      ],
      "execution_count": 9,
      "outputs": []
    },
    {
      "cell_type": "code",
      "metadata": {
        "colab": {
          "base_uri": "https://localhost:8080/"
        },
        "id": "lt638X6xpgUm",
        "outputId": "b86560c9-3148-4f83-e9b4-7d46764d7b87"
      },
      "source": [
        "global_title.isna().sum()#Je vérifie si il me reste des NaN"
      ],
      "execution_count": 10,
      "outputs": [
        {
          "output_type": "execute_result",
          "data": {
            "text/plain": [
              "tconst            0\n",
              "titleType         0\n",
              "primaryTitle      0\n",
              "originalTitle     0\n",
              "isAdult           0\n",
              "startYear         0\n",
              "endYear           0\n",
              "runtimeMinutes    0\n",
              "genres            0\n",
              "averageRating     0\n",
              "numVotes          0\n",
              "dtype: int64"
            ]
          },
          "metadata": {
            "tags": []
          },
          "execution_count": 10
        }
      ]
    },
    {
      "cell_type": "markdown",
      "metadata": {
        "id": "Us-rXLh_jlmX"
      },
      "source": [
        "##Supression des colonnes inutile"
      ]
    },
    {
      "cell_type": "code",
      "metadata": {
        "id": "OSz-bszJtAwp"
      },
      "source": [
        "\n",
        "\n",
        "global_title=global_title.drop([\"primaryTitle\",\"isAdult\",\"endYear\"],axis=1)\n"
      ],
      "execution_count": 12,
      "outputs": []
    },
    {
      "cell_type": "code",
      "metadata": {
        "colab": {
          "base_uri": "https://localhost:8080/",
          "height": 190
        },
        "id": "ictLiRMntYmF",
        "outputId": "bf45883b-0238-474e-c915-dd930123e6b5"
      },
      "source": [
        "global_title.head()"
      ],
      "execution_count": 13,
      "outputs": [
        {
          "output_type": "execute_result",
          "data": {
            "text/html": [
              "<div>\n",
              "<style scoped>\n",
              "    .dataframe tbody tr th:only-of-type {\n",
              "        vertical-align: middle;\n",
              "    }\n",
              "\n",
              "    .dataframe tbody tr th {\n",
              "        vertical-align: top;\n",
              "    }\n",
              "\n",
              "    .dataframe thead th {\n",
              "        text-align: right;\n",
              "    }\n",
              "</style>\n",
              "<table border=\"1\" class=\"dataframe\">\n",
              "  <thead>\n",
              "    <tr style=\"text-align: right;\">\n",
              "      <th></th>\n",
              "      <th>tconst</th>\n",
              "      <th>titleType</th>\n",
              "      <th>originalTitle</th>\n",
              "      <th>startYear</th>\n",
              "      <th>runtimeMinutes</th>\n",
              "      <th>genres</th>\n",
              "      <th>averageRating</th>\n",
              "      <th>numVotes</th>\n",
              "    </tr>\n",
              "  </thead>\n",
              "  <tbody>\n",
              "    <tr>\n",
              "      <th>0</th>\n",
              "      <td>tt0000001</td>\n",
              "      <td>short</td>\n",
              "      <td>Carmencita</td>\n",
              "      <td>1894</td>\n",
              "      <td>1</td>\n",
              "      <td>Documentary,Short</td>\n",
              "      <td>5.7</td>\n",
              "      <td>1698.0</td>\n",
              "    </tr>\n",
              "    <tr>\n",
              "      <th>1</th>\n",
              "      <td>tt0000002</td>\n",
              "      <td>short</td>\n",
              "      <td>Le clown et ses chiens</td>\n",
              "      <td>1892</td>\n",
              "      <td>5</td>\n",
              "      <td>Animation,Short</td>\n",
              "      <td>6.1</td>\n",
              "      <td>211.0</td>\n",
              "    </tr>\n",
              "    <tr>\n",
              "      <th>2</th>\n",
              "      <td>tt0000003</td>\n",
              "      <td>short</td>\n",
              "      <td>Pauvre Pierrot</td>\n",
              "      <td>1892</td>\n",
              "      <td>4</td>\n",
              "      <td>Animation,Comedy,Romance</td>\n",
              "      <td>6.5</td>\n",
              "      <td>1457.0</td>\n",
              "    </tr>\n",
              "    <tr>\n",
              "      <th>3</th>\n",
              "      <td>tt0000004</td>\n",
              "      <td>short</td>\n",
              "      <td>Un bon bock</td>\n",
              "      <td>1892</td>\n",
              "      <td>12</td>\n",
              "      <td>Animation,Short</td>\n",
              "      <td>6.1</td>\n",
              "      <td>124.0</td>\n",
              "    </tr>\n",
              "    <tr>\n",
              "      <th>4</th>\n",
              "      <td>tt0000005</td>\n",
              "      <td>short</td>\n",
              "      <td>Blacksmith Scene</td>\n",
              "      <td>1893</td>\n",
              "      <td>1</td>\n",
              "      <td>Comedy,Short</td>\n",
              "      <td>6.1</td>\n",
              "      <td>2256.0</td>\n",
              "    </tr>\n",
              "  </tbody>\n",
              "</table>\n",
              "</div>"
            ],
            "text/plain": [
              "      tconst titleType  ... averageRating numVotes\n",
              "0  tt0000001     short  ...           5.7   1698.0\n",
              "1  tt0000002     short  ...           6.1    211.0\n",
              "2  tt0000003     short  ...           6.5   1457.0\n",
              "3  tt0000004     short  ...           6.1    124.0\n",
              "4  tt0000005     short  ...           6.1   2256.0\n",
              "\n",
              "[5 rows x 8 columns]"
            ]
          },
          "metadata": {
            "tags": []
          },
          "execution_count": 13
        }
      ]
    },
    {
      "cell_type": "markdown",
      "metadata": {
        "id": "TGHFA3RLj3T_"
      },
      "source": [
        "##Premier filtrage de la base de donnée"
      ]
    },
    {
      "cell_type": "code",
      "metadata": {
        "colab": {
          "base_uri": "https://localhost:8080/"
        },
        "id": "cXcKE4D92ZsM",
        "outputId": "5d6ace95-b5a1-45ef-fe79-ec3b14a8d384"
      },
      "source": [
        "global_title[\"genres\"].unique()"
      ],
      "execution_count": 15,
      "outputs": [
        {
          "output_type": "execute_result",
          "data": {
            "text/plain": [
              "array(['Documentary,Short', 'Animation,Short', 'Animation,Comedy,Romance',\n",
              "       ..., 'Action,History,Western', 'Horror,Musical,Thriller',\n",
              "       'Animation,Musical,Sport'], dtype=object)"
            ]
          },
          "metadata": {
            "tags": []
          },
          "execution_count": 15
        }
      ]
    },
    {
      "cell_type": "markdown",
      "metadata": {
        "id": "Y229v1NIjZeg"
      },
      "source": [
        "Le client étant un cinéma nous nous concentrerons sur les titletype \"movie\""
      ]
    },
    {
      "cell_type": "code",
      "metadata": {
        "id": "JkIpqQrLjWpi"
      },
      "source": [
        "global_movie=global_title[(global_title[\"titleType\"]==\"movie\")]"
      ],
      "execution_count": 16,
      "outputs": []
    },
    {
      "cell_type": "markdown",
      "metadata": {
        "id": "OeEY2QGglcLv"
      },
      "source": [
        "##Valeurs manquantes"
      ]
    },
    {
      "cell_type": "code",
      "metadata": {
        "colab": {
          "base_uri": "https://localhost:8080/"
        },
        "id": "EftASvrbl7Qo",
        "outputId": "e7338511-153f-4803-f99b-a13d746e392c"
      },
      "source": [
        "global_movie[\"startYear\"].value_counts()"
      ],
      "execution_count": 17,
      "outputs": [
        {
          "output_type": "execute_result",
          "data": {
            "text/plain": [
              "2017    9691\n",
              "2018    9548\n",
              "2016    9385\n",
              "2019    9199\n",
              "2015    9029\n",
              "        ... \n",
              "1975       1\n",
              "1978       1\n",
              "1980       1\n",
              "1981       1\n",
              "1902       1\n",
              "Name: startYear, Length: 215, dtype: int64"
            ]
          },
          "metadata": {
            "tags": []
          },
          "execution_count": 17
        }
      ]
    },
    {
      "cell_type": "code",
      "metadata": {
        "colab": {
          "base_uri": "https://localhost:8080/"
        },
        "id": "tcEFdRlPl71x",
        "outputId": "c4373866-fe99-43e6-9a92-bf65ab102b61"
      },
      "source": [
        "global_movie[\"runtimeMinutes\"].value_counts()"
      ],
      "execution_count": 18,
      "outputs": [
        {
          "output_type": "execute_result",
          "data": {
            "text/plain": [
              "\\N     27139\n",
              "90     16243\n",
              "95      7643\n",
              "85      7447\n",
              "100     7261\n",
              "       ...  \n",
              "372        1\n",
              "418        1\n",
              "369        1\n",
              "266        1\n",
              "500        1\n",
              "Name: runtimeMinutes, Length: 386, dtype: int64"
            ]
          },
          "metadata": {
            "tags": []
          },
          "execution_count": 18
        }
      ]
    },
    {
      "cell_type": "code",
      "metadata": {
        "colab": {
          "base_uri": "https://localhost:8080/"
        },
        "id": "7ZCZcm9Ql7zT",
        "outputId": "c84501ba-4cb0-44f8-9615-075ce9d08522"
      },
      "source": [
        "global_movie[\"genres\"].value_counts()"
      ],
      "execution_count": 19,
      "outputs": [
        {
          "output_type": "execute_result",
          "data": {
            "text/plain": [
              "Drama                        44889\n",
              "Documentary                  25293\n",
              "Comedy                       22852\n",
              "\\N                           10105\n",
              "Comedy,Drama                  8514\n",
              "                             ...  \n",
              "Adventure,Musical,Western        1\n",
              "Adventure,Horror,Western         1\n",
              "Animation,Horror,Music           1\n",
              "Biography,Crime,Horror           1\n",
              "Fantasy,History,War              1\n",
              "Name: genres, Length: 1262, dtype: int64"
            ]
          },
          "metadata": {
            "tags": []
          },
          "execution_count": 19
        }
      ]
    },
    {
      "cell_type": "code",
      "metadata": {
        "colab": {
          "base_uri": "https://localhost:8080/"
        },
        "id": "mWMMTcGwmEht",
        "outputId": "5edab1b1-95b6-4576-ed02-78ebd1c7a0fb"
      },
      "source": [
        "global_movie[\"averageRating\"].value_counts()"
      ],
      "execution_count": 20,
      "outputs": [
        {
          "output_type": "execute_result",
          "data": {
            "text/plain": [
              "6.4     9060\n",
              "6.2     9032\n",
              "6.8     8969\n",
              "6.6     8896\n",
              "6.5     8534\n",
              "        ... \n",
              "1.1       50\n",
              "9.7       41\n",
              "9.8       38\n",
              "10.0      13\n",
              "9.9        4\n",
              "Name: averageRating, Length: 91, dtype: int64"
            ]
          },
          "metadata": {
            "tags": []
          },
          "execution_count": 20
        }
      ]
    },
    {
      "cell_type": "markdown",
      "metadata": {
        "id": "g0ByZy0GmGnD"
      },
      "source": [
        "Beaucoup de donnée ne sont pas présente dans la base de donnée (/N), nous décidons donc par manque d'information de supprimer les lignes ou certaine valeurs sont manquantes"
      ]
    },
    {
      "cell_type": "code",
      "metadata": {
        "id": "Z7_KaUNEld6g"
      },
      "source": [
        "global_movie.drop(global_movie.loc[global_movie[\"startYear\"]=='\\\\N'].index, inplace=True)\n",
        "global_movie.drop(global_movie.loc[global_movie[\"runtimeMinutes\"]=='\\\\N'].index, inplace=True)\n",
        "global_movie.drop(global_movie.loc[global_movie[\"genres\"]=='\\\\N'].index, inplace=True)"
      ],
      "execution_count": null,
      "outputs": []
    },
    {
      "cell_type": "markdown",
      "metadata": {
        "id": "C0a4LeDkmcZA"
      },
      "source": [
        "##Conversion des données"
      ]
    },
    {
      "cell_type": "code",
      "metadata": {
        "colab": {
          "base_uri": "https://localhost:8080/"
        },
        "id": "9b32dOuFmcIE",
        "outputId": "4267c8dd-94a2-4713-864e-23d671127112"
      },
      "source": [
        "global_movie.info()"
      ],
      "execution_count": 22,
      "outputs": [
        {
          "output_type": "stream",
          "text": [
            "<class 'pandas.core.frame.DataFrame'>\n",
            "Int64Index: 230318 entries, 570 to 7872391\n",
            "Data columns (total 8 columns):\n",
            " #   Column          Non-Null Count   Dtype  \n",
            "---  ------          --------------   -----  \n",
            " 0   tconst          230318 non-null  object \n",
            " 1   titleType       230318 non-null  object \n",
            " 2   originalTitle   230318 non-null  object \n",
            " 3   startYear       230318 non-null  object \n",
            " 4   runtimeMinutes  230318 non-null  object \n",
            " 5   genres          230318 non-null  object \n",
            " 6   averageRating   230318 non-null  float64\n",
            " 7   numVotes        230318 non-null  float64\n",
            "dtypes: float64(2), object(6)\n",
            "memory usage: 15.8+ MB\n"
          ],
          "name": "stdout"
        }
      ]
    },
    {
      "cell_type": "code",
      "metadata": {
        "id": "EgVEZ41Cmjz7"
      },
      "source": [
        "global_movie[\"startYear\"]=pd.to_numeric(global_movie[\"startYear\"])\n",
        "global_movie[\"runtimeMinutes\"]=pd.to_numeric(global_movie[\"runtimeMinutes\"])\n",
        "global_movie[\"averageRating\"]=pd.to_numeric(global_movie[\"averageRating\"])\n",
        "global_movie[\"numVotes\"]=pd.to_numeric(global_movie[\"numVotes\"])\n",
        "global_movie[\"numVotes\"] = global_movie[\"numVotes\"].astype(int)"
      ],
      "execution_count": null,
      "outputs": []
    },
    {
      "cell_type": "code",
      "metadata": {
        "colab": {
          "base_uri": "https://localhost:8080/"
        },
        "id": "Mr02zT8jmlte",
        "outputId": "c4179169-4788-4865-caae-c71170e41299"
      },
      "source": [
        "global_movie.info()"
      ],
      "execution_count": 24,
      "outputs": [
        {
          "output_type": "stream",
          "text": [
            "<class 'pandas.core.frame.DataFrame'>\n",
            "Int64Index: 230318 entries, 570 to 7872391\n",
            "Data columns (total 8 columns):\n",
            " #   Column          Non-Null Count   Dtype  \n",
            "---  ------          --------------   -----  \n",
            " 0   tconst          230318 non-null  object \n",
            " 1   titleType       230318 non-null  object \n",
            " 2   originalTitle   230318 non-null  object \n",
            " 3   startYear       230318 non-null  int64  \n",
            " 4   runtimeMinutes  230318 non-null  int64  \n",
            " 5   genres          230318 non-null  object \n",
            " 6   averageRating   230318 non-null  float64\n",
            " 7   numVotes        230318 non-null  int64  \n",
            "dtypes: float64(1), int64(3), object(4)\n",
            "memory usage: 15.8+ MB\n"
          ],
          "name": "stdout"
        }
      ]
    },
    {
      "cell_type": "code",
      "metadata": {
        "colab": {
          "base_uri": "https://localhost:8080/",
          "height": 392
        },
        "id": "CgsMNeGRmzH_",
        "outputId": "11b7a52d-c02d-4745-d8ad-3357d12bc647"
      },
      "source": [
        "global_movie"
      ],
      "execution_count": 25,
      "outputs": [
        {
          "output_type": "execute_result",
          "data": {
            "text/html": [
              "<div>\n",
              "<style scoped>\n",
              "    .dataframe tbody tr th:only-of-type {\n",
              "        vertical-align: middle;\n",
              "    }\n",
              "\n",
              "    .dataframe tbody tr th {\n",
              "        vertical-align: top;\n",
              "    }\n",
              "\n",
              "    .dataframe thead th {\n",
              "        text-align: right;\n",
              "    }\n",
              "</style>\n",
              "<table border=\"1\" class=\"dataframe\">\n",
              "  <thead>\n",
              "    <tr style=\"text-align: right;\">\n",
              "      <th></th>\n",
              "      <th>tconst</th>\n",
              "      <th>titleType</th>\n",
              "      <th>originalTitle</th>\n",
              "      <th>startYear</th>\n",
              "      <th>runtimeMinutes</th>\n",
              "      <th>genres</th>\n",
              "      <th>averageRating</th>\n",
              "      <th>numVotes</th>\n",
              "    </tr>\n",
              "  </thead>\n",
              "  <tbody>\n",
              "    <tr>\n",
              "      <th>570</th>\n",
              "      <td>tt0000574</td>\n",
              "      <td>movie</td>\n",
              "      <td>The Story of the Kelly Gang</td>\n",
              "      <td>1906</td>\n",
              "      <td>70</td>\n",
              "      <td>Action,Adventure,Biography</td>\n",
              "      <td>6.1</td>\n",
              "      <td>631</td>\n",
              "    </tr>\n",
              "    <tr>\n",
              "      <th>587</th>\n",
              "      <td>tt0000591</td>\n",
              "      <td>movie</td>\n",
              "      <td>L'enfant prodigue</td>\n",
              "      <td>1907</td>\n",
              "      <td>90</td>\n",
              "      <td>Drama</td>\n",
              "      <td>6.0</td>\n",
              "      <td>5</td>\n",
              "    </tr>\n",
              "    <tr>\n",
              "      <th>672</th>\n",
              "      <td>tt0000679</td>\n",
              "      <td>movie</td>\n",
              "      <td>The Fairylogue and Radio-Plays</td>\n",
              "      <td>1908</td>\n",
              "      <td>120</td>\n",
              "      <td>Adventure,Fantasy</td>\n",
              "      <td>5.2</td>\n",
              "      <td>35</td>\n",
              "    </tr>\n",
              "    <tr>\n",
              "      <th>1172</th>\n",
              "      <td>tt0001184</td>\n",
              "      <td>movie</td>\n",
              "      <td>Don Juan de Serrallonga</td>\n",
              "      <td>1910</td>\n",
              "      <td>58</td>\n",
              "      <td>Adventure,Drama</td>\n",
              "      <td>3.4</td>\n",
              "      <td>11</td>\n",
              "    </tr>\n",
              "    <tr>\n",
              "      <th>1246</th>\n",
              "      <td>tt0001258</td>\n",
              "      <td>movie</td>\n",
              "      <td>Den hvide slavehandel</td>\n",
              "      <td>1910</td>\n",
              "      <td>45</td>\n",
              "      <td>Drama</td>\n",
              "      <td>5.7</td>\n",
              "      <td>102</td>\n",
              "    </tr>\n",
              "    <tr>\n",
              "      <th>...</th>\n",
              "      <td>...</td>\n",
              "      <td>...</td>\n",
              "      <td>...</td>\n",
              "      <td>...</td>\n",
              "      <td>...</td>\n",
              "      <td>...</td>\n",
              "      <td>...</td>\n",
              "      <td>...</td>\n",
              "    </tr>\n",
              "    <tr>\n",
              "      <th>7872208</th>\n",
              "      <td>tt9916160</td>\n",
              "      <td>movie</td>\n",
              "      <td>Drømmeland</td>\n",
              "      <td>2019</td>\n",
              "      <td>72</td>\n",
              "      <td>Documentary</td>\n",
              "      <td>6.5</td>\n",
              "      <td>42</td>\n",
              "    </tr>\n",
              "    <tr>\n",
              "      <th>7872222</th>\n",
              "      <td>tt9916190</td>\n",
              "      <td>movie</td>\n",
              "      <td>Safeguard</td>\n",
              "      <td>2020</td>\n",
              "      <td>90</td>\n",
              "      <td>Action,Adventure,Thriller</td>\n",
              "      <td>3.4</td>\n",
              "      <td>137</td>\n",
              "    </tr>\n",
              "    <tr>\n",
              "      <th>7872261</th>\n",
              "      <td>tt9916270</td>\n",
              "      <td>movie</td>\n",
              "      <td>Il talento del calabrone</td>\n",
              "      <td>2020</td>\n",
              "      <td>84</td>\n",
              "      <td>Thriller</td>\n",
              "      <td>5.7</td>\n",
              "      <td>1042</td>\n",
              "    </tr>\n",
              "    <tr>\n",
              "      <th>7872306</th>\n",
              "      <td>tt9916362</td>\n",
              "      <td>movie</td>\n",
              "      <td>Akelarre</td>\n",
              "      <td>2020</td>\n",
              "      <td>92</td>\n",
              "      <td>Adventure,Drama,History</td>\n",
              "      <td>6.3</td>\n",
              "      <td>3129</td>\n",
              "    </tr>\n",
              "    <tr>\n",
              "      <th>7872391</th>\n",
              "      <td>tt9916538</td>\n",
              "      <td>movie</td>\n",
              "      <td>Kuambil Lagi Hatiku</td>\n",
              "      <td>2019</td>\n",
              "      <td>123</td>\n",
              "      <td>Drama</td>\n",
              "      <td>8.3</td>\n",
              "      <td>6</td>\n",
              "    </tr>\n",
              "  </tbody>\n",
              "</table>\n",
              "<p>230318 rows × 8 columns</p>\n",
              "</div>"
            ],
            "text/plain": [
              "            tconst titleType  ... averageRating  numVotes\n",
              "570      tt0000574     movie  ...           6.1       631\n",
              "587      tt0000591     movie  ...           6.0         5\n",
              "672      tt0000679     movie  ...           5.2        35\n",
              "1172     tt0001184     movie  ...           3.4        11\n",
              "1246     tt0001258     movie  ...           5.7       102\n",
              "...            ...       ...  ...           ...       ...\n",
              "7872208  tt9916160     movie  ...           6.5        42\n",
              "7872222  tt9916190     movie  ...           3.4       137\n",
              "7872261  tt9916270     movie  ...           5.7      1042\n",
              "7872306  tt9916362     movie  ...           6.3      3129\n",
              "7872391  tt9916538     movie  ...           8.3         6\n",
              "\n",
              "[230318 rows x 8 columns]"
            ]
          },
          "metadata": {
            "tags": []
          },
          "execution_count": 25
        }
      ]
    },
    {
      "cell_type": "markdown",
      "metadata": {
        "id": "dWxtlbyCj_JE"
      },
      "source": [
        "#Exportation de la base de donnée"
      ]
    },
    {
      "cell_type": "code",
      "metadata": {
        "colab": {
          "base_uri": "https://localhost:8080/"
        },
        "id": "Dq0qCqzko-dm",
        "outputId": "344089a8-216a-4b9d-f9c7-4b628f8d5c7f"
      },
      "source": [
        "from google.colab import drive\n",
        "drive.mount('drive')"
      ],
      "execution_count": null,
      "outputs": [
        {
          "output_type": "stream",
          "text": [
            "Drive already mounted at drive; to attempt to forcibly remount, call drive.mount(\"drive\", force_remount=True).\n"
          ],
          "name": "stdout"
        }
      ]
    },
    {
      "cell_type": "code",
      "metadata": {
        "id": "ZBKWEa8XpIhc"
      },
      "source": [
        "global_title.to_csv('globaltitle.csv')\n",
        "!cp globaltitle.csv \"drive/My Drive/\""
      ],
      "execution_count": null,
      "outputs": []
    }
  ]
}