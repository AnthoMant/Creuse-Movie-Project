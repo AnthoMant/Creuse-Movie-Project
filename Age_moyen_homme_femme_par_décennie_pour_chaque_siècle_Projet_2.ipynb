{
  "nbformat": 4,
  "nbformat_minor": 0,
  "metadata": {
    "colab": {
      "name": "Age moyen homme/femme par décennie pour chaque siècle - Projet 2.ipynb",
      "provenance": [],
      "authorship_tag": "ABX9TyPXk05QHkIsDtQnYv22n9IU",
      "include_colab_link": true
    },
    "kernelspec": {
      "name": "python3",
      "display_name": "Python 3"
    },
    "language_info": {
      "name": "python"
    }
  },
  "cells": [
    {
      "cell_type": "markdown",
      "metadata": {
        "id": "view-in-github",
        "colab_type": "text"
      },
      "source": [
        "<a href=\"https://colab.research.google.com/github/AnthoMant/Creuse-Movie-Project/blob/Etude-diverse/Age_moyen_homme_femme_par_d%C3%A9cennie_pour_chaque_si%C3%A8cle_Projet_2.ipynb\" target=\"_parent\"><img src=\"https://colab.research.google.com/assets/colab-badge.svg\" alt=\"Open In Colab\"/></a>"
      ]
    },
    {
      "cell_type": "code",
      "metadata": {
        "id": "U87SittuyC08"
      },
      "source": [
        "import pandas as pd\n",
        "import numpy as np\n",
        "import seaborn as sns\n",
        "import matplotlib.pyplot as plt\n",
        "import plotly.express as px\n",
        "from google.colab import drive\n",
        "from sklearn.linear_model import LinearRegression"
      ],
      "execution_count": null,
      "outputs": []
    },
    {
      "cell_type": "code",
      "metadata": {
        "colab": {
          "base_uri": "https://localhost:8080/"
        },
        "id": "OFo4Gt4wykh9",
        "outputId": "e3565863-0be4-4e70-d868-b8f68a83b9be"
      },
      "source": [
        "drive.mount('/content/drive')"
      ],
      "execution_count": null,
      "outputs": [
        {
          "output_type": "stream",
          "text": [
            "Mounted at /content/drive\n"
          ],
          "name": "stdout"
        }
      ]
    },
    {
      "cell_type": "code",
      "metadata": {
        "id": "WjUEtMTEysIu"
      },
      "source": [
        "global_title_actor=pd.read_csv('/content/drive/MyDrive/CREUSE MOVIE PROJECT/Base de donnée/globaltitleactor.csv')"
      ],
      "execution_count": null,
      "outputs": []
    },
    {
      "cell_type": "code",
      "metadata": {
        "id": "7Wz-Dw410MmU"
      },
      "source": [
        "#Definition d'une fonction pour créer une colonne décénnie\n",
        "def todecade(y):\n",
        "  return str(y)[2] + '0' "
      ],
      "execution_count": null,
      "outputs": []
    },
    {
      "cell_type": "code",
      "metadata": {
        "id": "K6yNKHo40NvN"
      },
      "source": [
        "global_title_actor[\"decade\"] = global_title_actor[\"startYear\"].apply(todecade)#Création de la colonne \"decade\""
      ],
      "execution_count": null,
      "outputs": []
    },
    {
      "cell_type": "code",
      "metadata": {
        "id": "ihaM9Fn38mHB"
      },
      "source": [
        "global_title_actor_1800=global_title_actor[(global_title_actor[\"startYear\"]<=1899)]#Filtrage sur le 19e siécle"
      ],
      "execution_count": null,
      "outputs": []
    },
    {
      "cell_type": "code",
      "metadata": {
        "id": "qIxst-oX02t9"
      },
      "source": [
        "global_title_actor_1900=global_title_actor[(global_title_actor[\"startYear\"]>=1900) & (global_title_actor[\"startYear\"]<=1999)] #Filtrage sur le 20e siécle"
      ],
      "execution_count": null,
      "outputs": []
    },
    {
      "cell_type": "code",
      "metadata": {
        "id": "YFoGMinH08Kv"
      },
      "source": [
        "global_title_actor_2000=global_title_actor[(global_title_actor[\"startYear\"]>=2000)]#Filtrage sur le 21e siécle"
      ],
      "execution_count": null,
      "outputs": []
    },
    {
      "cell_type": "code",
      "metadata": {
        "id": "n5VMKPxC8vYa"
      },
      "source": [
        "global_title_actor_1800=global_title_actor_1800.sort_values(by=[\"startYear\",\"originalTitle\"])#Trie du Dataset par startYear"
      ],
      "execution_count": null,
      "outputs": []
    },
    {
      "cell_type": "code",
      "metadata": {
        "id": "VbCdJbPI1mFa"
      },
      "source": [
        "global_title_actor_1900=global_title_actor_1900.sort_values(by=[\"startYear\",\"originalTitle\"])#Trie du Dataset par startYear"
      ],
      "execution_count": null,
      "outputs": []
    },
    {
      "cell_type": "code",
      "metadata": {
        "id": "hKZJJdF_8vyA"
      },
      "source": [
        "global_title_actor_2000=global_title_actor_2000.sort_values(by=[\"startYear\",\"originalTitle\"])#Trie du Dataset par startYear"
      ],
      "execution_count": null,
      "outputs": []
    },
    {
      "cell_type": "code",
      "metadata": {
        "id": "xd2RnQJw9xpL"
      },
      "source": [
        "global_title_actress_1800=global_title_actor_1800[(global_title_actor_1800[\"titleType\"]==\"movie\") & (global_title_actor_1800[\"primaryProfession\"].str.contains(\"actress\"))]"
      ],
      "execution_count": null,
      "outputs": []
    },
    {
      "cell_type": "code",
      "metadata": {
        "id": "YxvsfJhPjhd3"
      },
      "source": [
        "global_title_actor_1800=global_title_actor_1800[(global_title_actor_1800[\"titleType\"]==\"movie\") & (global_title_actor_1800[\"primaryProfession\"].str.contains(\"actor\"))]"
      ],
      "execution_count": null,
      "outputs": []
    },
    {
      "cell_type": "code",
      "metadata": {
        "id": "VSsBHD_pjsng"
      },
      "source": [
        "global_title_actress_1900=global_title_actor_1900[(global_title_actor_1900[\"titleType\"]==\"movie\") & (global_title_actor_1900[\"primaryProfession\"].str.contains(\"actress\"))]"
      ],
      "execution_count": null,
      "outputs": []
    },
    {
      "cell_type": "code",
      "metadata": {
        "id": "j2U_Johdjsd2"
      },
      "source": [
        "global_title_actor_1900=global_title_actor_1900[(global_title_actor_1900[\"titleType\"]==\"movie\") & (global_title_actor_1900[\"primaryProfession\"].str.contains(\"actor\"))]"
      ],
      "execution_count": null,
      "outputs": []
    },
    {
      "cell_type": "code",
      "metadata": {
        "id": "gzUQGHohj6V_"
      },
      "source": [
        "global_title_actress_2000=global_title_actor_2000[(global_title_actor_2000[\"titleType\"]==\"movie\") & (global_title_actor_2000[\"primaryProfession\"].str.contains(\"actress\"))]"
      ],
      "execution_count": null,
      "outputs": []
    },
    {
      "cell_type": "code",
      "metadata": {
        "id": "WyHOOxR0j6Pp"
      },
      "source": [
        "global_title_actor_2000=global_title_actor_2000[(global_title_actor_2000[\"titleType\"]==\"movie\") & (global_title_actor_2000[\"primaryProfession\"].str.contains(\"actor\"))]"
      ],
      "execution_count": null,
      "outputs": []
    },
    {
      "cell_type": "code",
      "metadata": {
        "colab": {
          "base_uri": "https://localhost:8080/",
          "height": 419
        },
        "id": "g7Qlxl4Cj8-U",
        "outputId": "e2073c53-f9fd-42fb-9b28-dbf3758afe84"
      },
      "source": [
        "global_title_actress_2000"
      ],
      "execution_count": null,
      "outputs": [
        {
          "output_type": "execute_result",
          "data": {
            "text/html": [
              "<div>\n",
              "<style scoped>\n",
              "    .dataframe tbody tr th:only-of-type {\n",
              "        vertical-align: middle;\n",
              "    }\n",
              "\n",
              "    .dataframe tbody tr th {\n",
              "        vertical-align: top;\n",
              "    }\n",
              "\n",
              "    .dataframe thead th {\n",
              "        text-align: right;\n",
              "    }\n",
              "</style>\n",
              "<table border=\"1\" class=\"dataframe\">\n",
              "  <thead>\n",
              "    <tr style=\"text-align: right;\">\n",
              "      <th></th>\n",
              "      <th>Unnamed: 0</th>\n",
              "      <th>tconst</th>\n",
              "      <th>titleType</th>\n",
              "      <th>originalTitle</th>\n",
              "      <th>startYear</th>\n",
              "      <th>runtimeMinutes</th>\n",
              "      <th>genres</th>\n",
              "      <th>averageRating</th>\n",
              "      <th>numVotes</th>\n",
              "      <th>nconst</th>\n",
              "      <th>primaryName</th>\n",
              "      <th>birthYear</th>\n",
              "      <th>primaryProfession</th>\n",
              "      <th>Age</th>\n",
              "      <th>decade</th>\n",
              "    </tr>\n",
              "  </thead>\n",
              "  <tbody>\n",
              "    <tr>\n",
              "      <th>532891</th>\n",
              "      <td>570908</td>\n",
              "      <td>tt0215458</td>\n",
              "      <td>movie</td>\n",
              "      <td>...und das ist erst der Anfang</td>\n",
              "      <td>2000</td>\n",
              "      <td>95</td>\n",
              "      <td>Comedy,Romance</td>\n",
              "      <td>5.6</td>\n",
              "      <td>103</td>\n",
              "      <td>nm0563149</td>\n",
              "      <td>Michaela Merten</td>\n",
              "      <td>1964</td>\n",
              "      <td>actress,cinematographer,producer</td>\n",
              "      <td>36</td>\n",
              "      <td>00</td>\n",
              "    </tr>\n",
              "    <tr>\n",
              "      <th>532893</th>\n",
              "      <td>570910</td>\n",
              "      <td>tt0215458</td>\n",
              "      <td>movie</td>\n",
              "      <td>...und das ist erst der Anfang</td>\n",
              "      <td>2000</td>\n",
              "      <td>95</td>\n",
              "      <td>Comedy,Romance</td>\n",
              "      <td>5.6</td>\n",
              "      <td>103</td>\n",
              "      <td>nm0725292</td>\n",
              "      <td>Julia Richter</td>\n",
              "      <td>1970</td>\n",
              "      <td>actress,writer,director</td>\n",
              "      <td>30</td>\n",
              "      <td>00</td>\n",
              "    </tr>\n",
              "    <tr>\n",
              "      <th>532359</th>\n",
              "      <td>570182</td>\n",
              "      <td>tt0214388</td>\n",
              "      <td>movie</td>\n",
              "      <td>100 Girls</td>\n",
              "      <td>2000</td>\n",
              "      <td>94</td>\n",
              "      <td>Comedy,Romance</td>\n",
              "      <td>5.8</td>\n",
              "      <td>20846</td>\n",
              "      <td>nm0004825</td>\n",
              "      <td>Emmanuelle Chriqui</td>\n",
              "      <td>1975</td>\n",
              "      <td>actress,producer</td>\n",
              "      <td>25</td>\n",
              "      <td>00</td>\n",
              "    </tr>\n",
              "    <tr>\n",
              "      <th>532361</th>\n",
              "      <td>570184</td>\n",
              "      <td>tt0214388</td>\n",
              "      <td>movie</td>\n",
              "      <td>100 Girls</td>\n",
              "      <td>2000</td>\n",
              "      <td>94</td>\n",
              "      <td>Comedy,Romance</td>\n",
              "      <td>5.8</td>\n",
              "      <td>20846</td>\n",
              "      <td>nm0102497</td>\n",
              "      <td>Ivana Firestone</td>\n",
              "      <td>1977</td>\n",
              "      <td>actress</td>\n",
              "      <td>23</td>\n",
              "      <td>00</td>\n",
              "    </tr>\n",
              "    <tr>\n",
              "      <th>532364</th>\n",
              "      <td>570187</td>\n",
              "      <td>tt0214388</td>\n",
              "      <td>movie</td>\n",
              "      <td>100 Girls</td>\n",
              "      <td>2000</td>\n",
              "      <td>94</td>\n",
              "      <td>Comedy,Romance</td>\n",
              "      <td>5.8</td>\n",
              "      <td>20846</td>\n",
              "      <td>nm0393877</td>\n",
              "      <td>Danielle Hoover</td>\n",
              "      <td>1972</td>\n",
              "      <td>writer,producer,actress</td>\n",
              "      <td>28</td>\n",
              "      <td>00</td>\n",
              "    </tr>\n",
              "    <tr>\n",
              "      <th>...</th>\n",
              "      <td>...</td>\n",
              "      <td>...</td>\n",
              "      <td>...</td>\n",
              "      <td>...</td>\n",
              "      <td>...</td>\n",
              "      <td>...</td>\n",
              "      <td>...</td>\n",
              "      <td>...</td>\n",
              "      <td>...</td>\n",
              "      <td>...</td>\n",
              "      <td>...</td>\n",
              "      <td>...</td>\n",
              "      <td>...</td>\n",
              "      <td>...</td>\n",
              "      <td>...</td>\n",
              "    </tr>\n",
              "    <tr>\n",
              "      <th>846294</th>\n",
              "      <td>1103808</td>\n",
              "      <td>tt12361974</td>\n",
              "      <td>movie</td>\n",
              "      <td>Zack Snyder's Justice League</td>\n",
              "      <td>2021</td>\n",
              "      <td>242</td>\n",
              "      <td>Action,Adventure,Fantasy</td>\n",
              "      <td>8.1</td>\n",
              "      <td>262531</td>\n",
              "      <td>nm2143237</td>\n",
              "      <td>Doutzen Kroes</td>\n",
              "      <td>1985</td>\n",
              "      <td>actress</td>\n",
              "      <td>36</td>\n",
              "      <td>20</td>\n",
              "    </tr>\n",
              "    <tr>\n",
              "      <th>846296</th>\n",
              "      <td>1103810</td>\n",
              "      <td>tt12361974</td>\n",
              "      <td>movie</td>\n",
              "      <td>Zack Snyder's Justice League</td>\n",
              "      <td>2021</td>\n",
              "      <td>242</td>\n",
              "      <td>Action,Adventure,Fantasy</td>\n",
              "      <td>8.1</td>\n",
              "      <td>262531</td>\n",
              "      <td>nm2376277</td>\n",
              "      <td>Leila Reid</td>\n",
              "      <td>1988</td>\n",
              "      <td>actress</td>\n",
              "      <td>33</td>\n",
              "      <td>20</td>\n",
              "    </tr>\n",
              "    <tr>\n",
              "      <th>846301</th>\n",
              "      <td>1103815</td>\n",
              "      <td>tt12361974</td>\n",
              "      <td>movie</td>\n",
              "      <td>Zack Snyder's Justice League</td>\n",
              "      <td>2021</td>\n",
              "      <td>242</td>\n",
              "      <td>Action,Adventure,Fantasy</td>\n",
              "      <td>8.1</td>\n",
              "      <td>262531</td>\n",
              "      <td>nm2966840</td>\n",
              "      <td>Lisa Loven Kongsli</td>\n",
              "      <td>1979</td>\n",
              "      <td>actress</td>\n",
              "      <td>42</td>\n",
              "      <td>20</td>\n",
              "    </tr>\n",
              "    <tr>\n",
              "      <th>846308</th>\n",
              "      <td>1103822</td>\n",
              "      <td>tt12361974</td>\n",
              "      <td>movie</td>\n",
              "      <td>Zack Snyder's Justice League</td>\n",
              "      <td>2021</td>\n",
              "      <td>242</td>\n",
              "      <td>Action,Adventure,Fantasy</td>\n",
              "      <td>8.1</td>\n",
              "      <td>262531</td>\n",
              "      <td>nm8245460</td>\n",
              "      <td>Rubie Planson</td>\n",
              "      <td>1995</td>\n",
              "      <td>stunts,actress</td>\n",
              "      <td>26</td>\n",
              "      <td>20</td>\n",
              "    </tr>\n",
              "    <tr>\n",
              "      <th>861302</th>\n",
              "      <td>1135140</td>\n",
              "      <td>tt13210228</td>\n",
              "      <td>movie</td>\n",
              "      <td>Þorpið í bakgarðinum</td>\n",
              "      <td>2021</td>\n",
              "      <td>92</td>\n",
              "      <td>Drama</td>\n",
              "      <td>8.8</td>\n",
              "      <td>16</td>\n",
              "      <td>nm2270589</td>\n",
              "      <td>Laufey Elíasdóttir</td>\n",
              "      <td>1979</td>\n",
              "      <td>actress,casting_director</td>\n",
              "      <td>42</td>\n",
              "      <td>20</td>\n",
              "    </tr>\n",
              "  </tbody>\n",
              "</table>\n",
              "<p>79733 rows × 15 columns</p>\n",
              "</div>"
            ],
            "text/plain": [
              "        Unnamed: 0      tconst  ... Age decade\n",
              "532891      570908   tt0215458  ...  36     00\n",
              "532893      570910   tt0215458  ...  30     00\n",
              "532359      570182   tt0214388  ...  25     00\n",
              "532361      570184   tt0214388  ...  23     00\n",
              "532364      570187   tt0214388  ...  28     00\n",
              "...            ...         ...  ...  ..    ...\n",
              "846294     1103808  tt12361974  ...  36     20\n",
              "846296     1103810  tt12361974  ...  33     20\n",
              "846301     1103815  tt12361974  ...  42     20\n",
              "846308     1103822  tt12361974  ...  26     20\n",
              "861302     1135140  tt13210228  ...  42     20\n",
              "\n",
              "[79733 rows x 15 columns]"
            ]
          },
          "metadata": {
            "tags": []
          },
          "execution_count": 19
        }
      ]
    },
    {
      "cell_type": "code",
      "metadata": {
        "colab": {
          "base_uri": "https://localhost:8080/",
          "height": 419
        },
        "id": "Q9YAG0LIj87W",
        "outputId": "e3fd0aba-b7bf-4e3c-c1c2-eae271264d33"
      },
      "source": [
        "global_title_actor_2000"
      ],
      "execution_count": null,
      "outputs": [
        {
          "output_type": "execute_result",
          "data": {
            "text/html": [
              "<div>\n",
              "<style scoped>\n",
              "    .dataframe tbody tr th:only-of-type {\n",
              "        vertical-align: middle;\n",
              "    }\n",
              "\n",
              "    .dataframe tbody tr th {\n",
              "        vertical-align: top;\n",
              "    }\n",
              "\n",
              "    .dataframe thead th {\n",
              "        text-align: right;\n",
              "    }\n",
              "</style>\n",
              "<table border=\"1\" class=\"dataframe\">\n",
              "  <thead>\n",
              "    <tr style=\"text-align: right;\">\n",
              "      <th></th>\n",
              "      <th>Unnamed: 0</th>\n",
              "      <th>tconst</th>\n",
              "      <th>titleType</th>\n",
              "      <th>originalTitle</th>\n",
              "      <th>startYear</th>\n",
              "      <th>runtimeMinutes</th>\n",
              "      <th>genres</th>\n",
              "      <th>averageRating</th>\n",
              "      <th>numVotes</th>\n",
              "      <th>nconst</th>\n",
              "      <th>primaryName</th>\n",
              "      <th>birthYear</th>\n",
              "      <th>primaryProfession</th>\n",
              "      <th>Age</th>\n",
              "      <th>decade</th>\n",
              "    </tr>\n",
              "  </thead>\n",
              "  <tbody>\n",
              "    <tr>\n",
              "      <th>532888</th>\n",
              "      <td>570905</td>\n",
              "      <td>tt0215458</td>\n",
              "      <td>movie</td>\n",
              "      <td>...und das ist erst der Anfang</td>\n",
              "      <td>2000</td>\n",
              "      <td>95</td>\n",
              "      <td>Comedy,Romance</td>\n",
              "      <td>5.6</td>\n",
              "      <td>103</td>\n",
              "      <td>nm0290470</td>\n",
              "      <td>Pierre Franckh</td>\n",
              "      <td>1953</td>\n",
              "      <td>actor,director,writer</td>\n",
              "      <td>47</td>\n",
              "      <td>00</td>\n",
              "    </tr>\n",
              "    <tr>\n",
              "      <th>532889</th>\n",
              "      <td>570906</td>\n",
              "      <td>tt0215458</td>\n",
              "      <td>movie</td>\n",
              "      <td>...und das ist erst der Anfang</td>\n",
              "      <td>2000</td>\n",
              "      <td>95</td>\n",
              "      <td>Comedy,Romance</td>\n",
              "      <td>5.6</td>\n",
              "      <td>103</td>\n",
              "      <td>nm0378099</td>\n",
              "      <td>Lukas Till Henseler</td>\n",
              "      <td>1986</td>\n",
              "      <td>actor</td>\n",
              "      <td>14</td>\n",
              "      <td>00</td>\n",
              "    </tr>\n",
              "    <tr>\n",
              "      <th>532892</th>\n",
              "      <td>570909</td>\n",
              "      <td>tt0215458</td>\n",
              "      <td>movie</td>\n",
              "      <td>...und das ist erst der Anfang</td>\n",
              "      <td>2000</td>\n",
              "      <td>95</td>\n",
              "      <td>Comedy,Romance</td>\n",
              "      <td>5.6</td>\n",
              "      <td>103</td>\n",
              "      <td>nm0608508</td>\n",
              "      <td>Konstantin Moser</td>\n",
              "      <td>1989</td>\n",
              "      <td>actor</td>\n",
              "      <td>11</td>\n",
              "      <td>00</td>\n",
              "    </tr>\n",
              "    <tr>\n",
              "      <th>532363</th>\n",
              "      <td>570186</td>\n",
              "      <td>tt0214388</td>\n",
              "      <td>movie</td>\n",
              "      <td>100 Girls</td>\n",
              "      <td>2000</td>\n",
              "      <td>94</td>\n",
              "      <td>Comedy,Romance</td>\n",
              "      <td>5.8</td>\n",
              "      <td>20846</td>\n",
              "      <td>nm0337566</td>\n",
              "      <td>Johnny Green</td>\n",
              "      <td>1972</td>\n",
              "      <td>actor</td>\n",
              "      <td>28</td>\n",
              "      <td>00</td>\n",
              "    </tr>\n",
              "    <tr>\n",
              "      <th>532365</th>\n",
              "      <td>570188</td>\n",
              "      <td>tt0214388</td>\n",
              "      <td>movie</td>\n",
              "      <td>100 Girls</td>\n",
              "      <td>2000</td>\n",
              "      <td>94</td>\n",
              "      <td>Comedy,Romance</td>\n",
              "      <td>5.8</td>\n",
              "      <td>20846</td>\n",
              "      <td>nm0844172</td>\n",
              "      <td>Eric Szmanda</td>\n",
              "      <td>1975</td>\n",
              "      <td>actor</td>\n",
              "      <td>25</td>\n",
              "      <td>00</td>\n",
              "    </tr>\n",
              "    <tr>\n",
              "      <th>...</th>\n",
              "      <td>...</td>\n",
              "      <td>...</td>\n",
              "      <td>...</td>\n",
              "      <td>...</td>\n",
              "      <td>...</td>\n",
              "      <td>...</td>\n",
              "      <td>...</td>\n",
              "      <td>...</td>\n",
              "      <td>...</td>\n",
              "      <td>...</td>\n",
              "      <td>...</td>\n",
              "      <td>...</td>\n",
              "      <td>...</td>\n",
              "      <td>...</td>\n",
              "      <td>...</td>\n",
              "    </tr>\n",
              "    <tr>\n",
              "      <th>846303</th>\n",
              "      <td>1103817</td>\n",
              "      <td>tt12361974</td>\n",
              "      <td>movie</td>\n",
              "      <td>Zack Snyder's Justice League</td>\n",
              "      <td>2021</td>\n",
              "      <td>242</td>\n",
              "      <td>Action,Adventure,Fantasy</td>\n",
              "      <td>8.1</td>\n",
              "      <td>262531</td>\n",
              "      <td>nm3511632</td>\n",
              "      <td>Dacio Caballero</td>\n",
              "      <td>1987</td>\n",
              "      <td>stunts,actor</td>\n",
              "      <td>34</td>\n",
              "      <td>20</td>\n",
              "    </tr>\n",
              "    <tr>\n",
              "      <th>846304</th>\n",
              "      <td>1103818</td>\n",
              "      <td>tt12361974</td>\n",
              "      <td>movie</td>\n",
              "      <td>Zack Snyder's Justice League</td>\n",
              "      <td>2021</td>\n",
              "      <td>242</td>\n",
              "      <td>Action,Adventure,Fantasy</td>\n",
              "      <td>8.1</td>\n",
              "      <td>262531</td>\n",
              "      <td>nm4404779</td>\n",
              "      <td>Ryan Zheng</td>\n",
              "      <td>1986</td>\n",
              "      <td>actor,soundtrack</td>\n",
              "      <td>35</td>\n",
              "      <td>20</td>\n",
              "    </tr>\n",
              "    <tr>\n",
              "      <th>846306</th>\n",
              "      <td>1103820</td>\n",
              "      <td>tt12361974</td>\n",
              "      <td>movie</td>\n",
              "      <td>Zack Snyder's Justice League</td>\n",
              "      <td>2021</td>\n",
              "      <td>242</td>\n",
              "      <td>Action,Adventure,Fantasy</td>\n",
              "      <td>8.1</td>\n",
              "      <td>262531</td>\n",
              "      <td>nm5360282</td>\n",
              "      <td>Hasit Savani</td>\n",
              "      <td>1986</td>\n",
              "      <td>stunts,actor,miscellaneous</td>\n",
              "      <td>35</td>\n",
              "      <td>20</td>\n",
              "    </tr>\n",
              "    <tr>\n",
              "      <th>846307</th>\n",
              "      <td>1103821</td>\n",
              "      <td>tt12361974</td>\n",
              "      <td>movie</td>\n",
              "      <td>Zack Snyder's Justice League</td>\n",
              "      <td>2021</td>\n",
              "      <td>242</td>\n",
              "      <td>Action,Adventure,Fantasy</td>\n",
              "      <td>8.1</td>\n",
              "      <td>262531</td>\n",
              "      <td>nm8018644</td>\n",
              "      <td>Andrew G. Ogleby</td>\n",
              "      <td>1967</td>\n",
              "      <td>actor,miscellaneous,writer</td>\n",
              "      <td>54</td>\n",
              "      <td>20</td>\n",
              "    </tr>\n",
              "    <tr>\n",
              "      <th>873003</th>\n",
              "      <td>1159825</td>\n",
              "      <td>tt13946146</td>\n",
              "      <td>movie</td>\n",
              "      <td>Zoya</td>\n",
              "      <td>2021</td>\n",
              "      <td>105</td>\n",
              "      <td>Drama,War</td>\n",
              "      <td>6.2</td>\n",
              "      <td>434</td>\n",
              "      <td>nm2786566</td>\n",
              "      <td>Jean-Marc Birkholz</td>\n",
              "      <td>1974</td>\n",
              "      <td>actor</td>\n",
              "      <td>47</td>\n",
              "      <td>20</td>\n",
              "    </tr>\n",
              "  </tbody>\n",
              "</table>\n",
              "<p>136109 rows × 15 columns</p>\n",
              "</div>"
            ],
            "text/plain": [
              "        Unnamed: 0      tconst  ... Age decade\n",
              "532888      570905   tt0215458  ...  47     00\n",
              "532889      570906   tt0215458  ...  14     00\n",
              "532892      570909   tt0215458  ...  11     00\n",
              "532363      570186   tt0214388  ...  28     00\n",
              "532365      570188   tt0214388  ...  25     00\n",
              "...            ...         ...  ...  ..    ...\n",
              "846303     1103817  tt12361974  ...  34     20\n",
              "846304     1103818  tt12361974  ...  35     20\n",
              "846306     1103820  tt12361974  ...  35     20\n",
              "846307     1103821  tt12361974  ...  54     20\n",
              "873003     1159825  tt13946146  ...  47     20\n",
              "\n",
              "[136109 rows x 15 columns]"
            ]
          },
          "metadata": {
            "tags": []
          },
          "execution_count": 20
        }
      ]
    },
    {
      "cell_type": "code",
      "metadata": {
        "id": "V9Y4bIZH-Ndv"
      },
      "source": [
        "decade_movie_actress_1800=global_title_actress_1800.pivot_table(values = \"Age\" , index = \"decade\", aggfunc=\"mean\")#Pivot table pour récupérer l'age moyen par décennie"
      ],
      "execution_count": null,
      "outputs": []
    },
    {
      "cell_type": "code",
      "metadata": {
        "id": "mNjRT0_8lP6r"
      },
      "source": [
        "decade_movie_actor_1800=global_title_actor_1800.pivot_table(values = \"Age\" , index = \"decade\", aggfunc=\"mean\")#Pivot table pour récupérer l'age moyen par décennie"
      ],
      "execution_count": null,
      "outputs": []
    },
    {
      "cell_type": "code",
      "metadata": {
        "id": "0jA02-BD2Nix"
      },
      "source": [
        "decade_movie_actress_1900=global_title_actress_1900.pivot_table(values = \"Age\" , index = \"decade\", aggfunc=\"mean\")#Pivot table pour récupérer l'age moyen par décennie"
      ],
      "execution_count": null,
      "outputs": []
    },
    {
      "cell_type": "code",
      "metadata": {
        "id": "vrgVBY4O-NuV"
      },
      "source": [
        "decade_movie_actor_1900=global_title_actor_1900.pivot_table(values = \"Age\" , index = \"decade\", aggfunc=\"mean\")#Pivot table pour récupérer l'age moyen par décennie"
      ],
      "execution_count": null,
      "outputs": []
    },
    {
      "cell_type": "code",
      "metadata": {
        "id": "wXG44mYzllLk"
      },
      "source": [
        "decade_movie_actress_2000=global_title_actress_2000.pivot_table(values = \"Age\" , index = \"decade\", aggfunc=\"mean\")#Pivot table pour récupérer l'age moyen par décennie"
      ],
      "execution_count": null,
      "outputs": []
    },
    {
      "cell_type": "code",
      "metadata": {
        "id": "6OSF-5B_llER"
      },
      "source": [
        "decade_movie_actor_2000=global_title_actor_2000.pivot_table(values = \"Age\" , index = \"decade\", aggfunc=\"mean\")#Pivot table pour récupérer l'age moyen par décennie"
      ],
      "execution_count": null,
      "outputs": []
    },
    {
      "cell_type": "code",
      "metadata": {
        "id": "4S98pznsmRGK"
      },
      "source": [
        "decade_movie_actress_1800[\"Sexe\"]=\"F\""
      ],
      "execution_count": null,
      "outputs": []
    },
    {
      "cell_type": "code",
      "metadata": {
        "id": "PzdQczeQmQse"
      },
      "source": [
        "decade_movie_actor_1800[\"Sexe\"]=\"M\""
      ],
      "execution_count": null,
      "outputs": []
    },
    {
      "cell_type": "code",
      "metadata": {
        "id": "pwEqr9mAmsJ4"
      },
      "source": [
        "decade_movie_actress_1900[\"Sexe\"]=\"F\""
      ],
      "execution_count": null,
      "outputs": []
    },
    {
      "cell_type": "code",
      "metadata": {
        "id": "rWkTv6SXmsFz"
      },
      "source": [
        "decade_movie_actor_1900[\"Sexe\"]=\"M\""
      ],
      "execution_count": null,
      "outputs": []
    },
    {
      "cell_type": "code",
      "metadata": {
        "id": "L2vNRPFomr53"
      },
      "source": [
        "decade_movie_actress_2000[\"Sexe\"]=\"F\""
      ],
      "execution_count": null,
      "outputs": []
    },
    {
      "cell_type": "code",
      "metadata": {
        "id": "-6m3SaHvmr0X"
      },
      "source": [
        "decade_movie_actor_2000[\"Sexe\"]=\"M\""
      ],
      "execution_count": null,
      "outputs": []
    },
    {
      "cell_type": "code",
      "metadata": {
        "id": "nHlMsoiom3bO"
      },
      "source": [
        "decade_movie_actor_1800[\"Décénnie\"]=decade_movie_actor_1800.index"
      ],
      "execution_count": null,
      "outputs": []
    },
    {
      "cell_type": "code",
      "metadata": {
        "id": "EOa7mCTom3Oa"
      },
      "source": [
        "decade_movie_actress_1800[\"Décénnie\"]=decade_movie_actress_1800.index"
      ],
      "execution_count": null,
      "outputs": []
    },
    {
      "cell_type": "code",
      "metadata": {
        "id": "M_MRGxLv-fij"
      },
      "source": [
        "decade_movie_actor_1900[\"Décénnie\"]=decade_movie_actor_1900.index"
      ],
      "execution_count": null,
      "outputs": []
    },
    {
      "cell_type": "code",
      "metadata": {
        "id": "XYRkJZvq7NGU"
      },
      "source": [
        "decade_movie_actress_1900[\"Décénnie\"]=decade_movie_actress_1900.index"
      ],
      "execution_count": null,
      "outputs": []
    },
    {
      "cell_type": "code",
      "metadata": {
        "id": "spmt4-lfnqnn"
      },
      "source": [
        "decade_movie_actor_2000[\"Décénnie\"]=decade_movie_actor_2000.index"
      ],
      "execution_count": null,
      "outputs": []
    },
    {
      "cell_type": "code",
      "metadata": {
        "id": "6PPi8hDR-fL2"
      },
      "source": [
        "decade_movie_actress_2000[\"Décénnie\"]=decade_movie_actress_2000.index"
      ],
      "execution_count": null,
      "outputs": []
    },
    {
      "cell_type": "code",
      "metadata": {
        "id": "E0QnCVF_oFfK"
      },
      "source": [
        "decade_actor_1800=pd.concat([decade_movie_actor_1800,decade_movie_actress_1800], ignore_index=True)"
      ],
      "execution_count": null,
      "outputs": []
    },
    {
      "cell_type": "code",
      "metadata": {
        "id": "xSbVXtynoFap"
      },
      "source": [
        "decade_actor_1900=pd.concat([decade_movie_actor_1900,decade_movie_actress_1900], ignore_index=True)"
      ],
      "execution_count": null,
      "outputs": []
    },
    {
      "cell_type": "code",
      "metadata": {
        "id": "vfYAafdToFVN"
      },
      "source": [
        "decade_actor_2000=pd.concat([decade_movie_actor_2000,decade_movie_actress_2000], ignore_index=True)"
      ],
      "execution_count": null,
      "outputs": []
    },
    {
      "cell_type": "code",
      "metadata": {
        "colab": {
          "base_uri": "https://localhost:8080/",
          "height": 669
        },
        "id": "2-S0QiqZohaP",
        "outputId": "1009e68b-9811-4cca-f3ae-49cd15bc081d"
      },
      "source": [
        "decade_actor_1900"
      ],
      "execution_count": null,
      "outputs": [
        {
          "output_type": "execute_result",
          "data": {
            "text/html": [
              "<div>\n",
              "<style scoped>\n",
              "    .dataframe tbody tr th:only-of-type {\n",
              "        vertical-align: middle;\n",
              "    }\n",
              "\n",
              "    .dataframe tbody tr th {\n",
              "        vertical-align: top;\n",
              "    }\n",
              "\n",
              "    .dataframe thead th {\n",
              "        text-align: right;\n",
              "    }\n",
              "</style>\n",
              "<table border=\"1\" class=\"dataframe\">\n",
              "  <thead>\n",
              "    <tr style=\"text-align: right;\">\n",
              "      <th></th>\n",
              "      <th>Age</th>\n",
              "      <th>Sexe</th>\n",
              "      <th>Décénnie</th>\n",
              "    </tr>\n",
              "  </thead>\n",
              "  <tbody>\n",
              "    <tr>\n",
              "      <th>0</th>\n",
              "      <td>28.571429</td>\n",
              "      <td>M</td>\n",
              "      <td>00</td>\n",
              "    </tr>\n",
              "    <tr>\n",
              "      <th>1</th>\n",
              "      <td>39.468883</td>\n",
              "      <td>M</td>\n",
              "      <td>10</td>\n",
              "    </tr>\n",
              "    <tr>\n",
              "      <th>2</th>\n",
              "      <td>39.660124</td>\n",
              "      <td>M</td>\n",
              "      <td>20</td>\n",
              "    </tr>\n",
              "    <tr>\n",
              "      <th>3</th>\n",
              "      <td>39.584361</td>\n",
              "      <td>M</td>\n",
              "      <td>30</td>\n",
              "    </tr>\n",
              "    <tr>\n",
              "      <th>4</th>\n",
              "      <td>39.928940</td>\n",
              "      <td>M</td>\n",
              "      <td>40</td>\n",
              "    </tr>\n",
              "    <tr>\n",
              "      <th>5</th>\n",
              "      <td>40.516314</td>\n",
              "      <td>M</td>\n",
              "      <td>50</td>\n",
              "    </tr>\n",
              "    <tr>\n",
              "      <th>6</th>\n",
              "      <td>39.680043</td>\n",
              "      <td>M</td>\n",
              "      <td>60</td>\n",
              "    </tr>\n",
              "    <tr>\n",
              "      <th>7</th>\n",
              "      <td>40.757073</td>\n",
              "      <td>M</td>\n",
              "      <td>70</td>\n",
              "    </tr>\n",
              "    <tr>\n",
              "      <th>8</th>\n",
              "      <td>41.550127</td>\n",
              "      <td>M</td>\n",
              "      <td>80</td>\n",
              "    </tr>\n",
              "    <tr>\n",
              "      <th>9</th>\n",
              "      <td>41.252658</td>\n",
              "      <td>M</td>\n",
              "      <td>90</td>\n",
              "    </tr>\n",
              "    <tr>\n",
              "      <th>10</th>\n",
              "      <td>19.250000</td>\n",
              "      <td>F</td>\n",
              "      <td>00</td>\n",
              "    </tr>\n",
              "    <tr>\n",
              "      <th>11</th>\n",
              "      <td>30.133998</td>\n",
              "      <td>F</td>\n",
              "      <td>10</td>\n",
              "    </tr>\n",
              "    <tr>\n",
              "      <th>12</th>\n",
              "      <td>31.331418</td>\n",
              "      <td>F</td>\n",
              "      <td>20</td>\n",
              "    </tr>\n",
              "    <tr>\n",
              "      <th>13</th>\n",
              "      <td>31.353787</td>\n",
              "      <td>F</td>\n",
              "      <td>30</td>\n",
              "    </tr>\n",
              "    <tr>\n",
              "      <th>14</th>\n",
              "      <td>32.486867</td>\n",
              "      <td>F</td>\n",
              "      <td>40</td>\n",
              "    </tr>\n",
              "    <tr>\n",
              "      <th>15</th>\n",
              "      <td>33.316033</td>\n",
              "      <td>F</td>\n",
              "      <td>50</td>\n",
              "    </tr>\n",
              "    <tr>\n",
              "      <th>16</th>\n",
              "      <td>32.745800</td>\n",
              "      <td>F</td>\n",
              "      <td>60</td>\n",
              "    </tr>\n",
              "    <tr>\n",
              "      <th>17</th>\n",
              "      <td>34.724915</td>\n",
              "      <td>F</td>\n",
              "      <td>70</td>\n",
              "    </tr>\n",
              "    <tr>\n",
              "      <th>18</th>\n",
              "      <td>35.327791</td>\n",
              "      <td>F</td>\n",
              "      <td>80</td>\n",
              "    </tr>\n",
              "    <tr>\n",
              "      <th>19</th>\n",
              "      <td>34.899382</td>\n",
              "      <td>F</td>\n",
              "      <td>90</td>\n",
              "    </tr>\n",
              "  </tbody>\n",
              "</table>\n",
              "</div>"
            ],
            "text/plain": [
              "          Age Sexe Décénnie\n",
              "0   28.571429    M       00\n",
              "1   39.468883    M       10\n",
              "2   39.660124    M       20\n",
              "3   39.584361    M       30\n",
              "4   39.928940    M       40\n",
              "5   40.516314    M       50\n",
              "6   39.680043    M       60\n",
              "7   40.757073    M       70\n",
              "8   41.550127    M       80\n",
              "9   41.252658    M       90\n",
              "10  19.250000    F       00\n",
              "11  30.133998    F       10\n",
              "12  31.331418    F       20\n",
              "13  31.353787    F       30\n",
              "14  32.486867    F       40\n",
              "15  33.316033    F       50\n",
              "16  32.745800    F       60\n",
              "17  34.724915    F       70\n",
              "18  35.327791    F       80\n",
              "19  34.899382    F       90"
            ]
          },
          "metadata": {
            "tags": []
          },
          "execution_count": 50
        }
      ]
    },
    {
      "cell_type": "code",
      "metadata": {
        "id": "V8_HH5G_owws"
      },
      "source": [
        "import seaborn as sns\n",
        "sns.set(style=\"darkgrid\")\n",
        "ax = sns.countplot(x=\"class\", hue=\"who\", data=titanic)"
      ],
      "execution_count": null,
      "outputs": []
    },
    {
      "cell_type": "code",
      "metadata": {
        "colab": {
          "base_uri": "https://localhost:8080/",
          "height": 372
        },
        "id": "sUkLL__I54Hw",
        "outputId": "e0d26c01-4714-494e-b2ef-0db7f6af1930"
      },
      "source": [
        "fig, ax = plt.subplots(1,2,figsize=(20,5))\n",
        "\n",
        "sns.set_theme()#Choix d'un theme\n",
        "\n",
        "#Deuxième graphique\n",
        "sns.barplot(ax=ax[0],data=decade_actor_1900 , x = \"Décénnie\" , y= \"Age\", hue=\"Sexe\", palette=[\"cyan\",\"plum\"] )\n",
        "ax[0].set_title(\"Age moyen homme/femme par décennie - 20e siécle\")#Titre\n",
        "ax[0].set_ylabel(\"Age\")#Titre des ordonnées\n",
        "\n",
        "#Troisième graphique\n",
        "sns.barplot(ax=ax[1],data=decade_actor_2000, x = \"Décénnie\" , y= \"Age\", hue=\"Sexe\", palette=[\"cyan\",\"plum\"])\n",
        "ax[1].set_title(\"Age moyen homme/femme par décennie - 21e siécle\")#Titre\n",
        "ax[1].set_ylabel(\"Age\")#Titre des ordonnées"
      ],
      "execution_count": null,
      "outputs": [
        {
          "output_type": "execute_result",
          "data": {
            "text/plain": [
              "Text(0, 0.5, 'Age')"
            ]
          },
          "metadata": {
            "tags": []
          },
          "execution_count": 67
        },
        {
          "output_type": "display_data",
          "data": {
            "image/png": "[encoded data removed]",
            "text/plain": [
              "<Figure size 1440x360 with 2 Axes>"
            ]
          },
          "metadata": {
            "tags": []
          }
        }
      ]
    }
  ]
}