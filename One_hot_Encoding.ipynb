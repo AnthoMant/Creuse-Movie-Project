{
  "nbformat": 4,
  "nbformat_minor": 0,
  "metadata": {
    "colab": {
      "name": "Projet 2 - One-hot Encoding.ipynb",
      "provenance": [],
      "collapsed_sections": [],
      "include_colab_link": true
    },
    "kernelspec": {
      "display_name": "Python 3",
      "name": "python3"
    },
    "language_info": {
      "name": "python"
    }
  },
  "cells": [
    {
      "cell_type": "markdown",
      "metadata": {
        "id": "view-in-github",
        "colab_type": "text"
      },
      "source": [
        "<a href=\"https://colab.research.google.com/github/AnthoMant/Creuse-Movie-Project/blob/main/One_hot_Encoding.ipynb\" target=\"_parent\"><img src=\"https://colab.research.google.com/assets/colab-badge.svg\" alt=\"Open In Colab\"/></a>"
      ]
    },
    {
      "cell_type": "code",
      "metadata": {
        "id": "5_W03aAeoAqb"
      },
      "source": [
        "import pandas as pd\n",
        "import numpy as np\n",
        "import matplotlib.pyplot as plt\n",
        "import seaborn as sns\n",
        "from sklearn.preprocessing import OneHotEncoder\n",
        "from google.colab import drive"
      ],
      "execution_count": null,
      "outputs": []
    },
    {
      "cell_type": "code",
      "metadata": {
        "colab": {
          "base_uri": "https://localhost:8080/"
        },
        "id": "Ey-i1M97myHo",
        "outputId": "62522e35-4b1f-44b4-ad11-f36b5cc142a6"
      },
      "source": [
        "drive.mount('/content/drive')"
      ],
      "execution_count": null,
      "outputs": [
        {
          "output_type": "stream",
          "text": [
            "Drive already mounted at /content/drive; to attempt to forcibly remount, call drive.mount(\"/content/drive\", force_remount=True).\n"
          ],
          "name": "stdout"
        }
      ]
    },
    {
      "cell_type": "code",
      "metadata": {
        "id": "3i1MjYAhnHEb",
        "colab": {
          "base_uri": "https://localhost:8080/"
        },
        "outputId": "14996722-4474-444d-c024-6fa732088c69"
      },
      "source": [
        "global_title=pd.read_csv('/content/drive/MyDrive/CREUSE MOVIE PROJECT/Base de donnée/globaltitle.csv')"
      ],
      "execution_count": null,
      "outputs": [
        {
          "output_type": "stream",
          "text": [
            "/usr/local/lib/python3.7/dist-packages/IPython/core/interactiveshell.py:2718: DtypeWarning: Columns (4) have mixed types.Specify dtype option on import or set low_memory=False.\n",
            "  interactivity=interactivity, compiler=compiler, result=result)\n"
          ],
          "name": "stderr"
        }
      ]
    },
    {
      "cell_type": "code",
      "metadata": {
        "id": "5eGLgU1B2QSo"
      },
      "source": [
        "global_title[\"genres\"]=global_title[\"genres\"].str.split(pat =\",\")# création d'une liste en séparant chaque genre"
      ],
      "execution_count": null,
      "outputs": []
    },
    {
      "cell_type": "code",
      "metadata": {
        "id": "LVSSw0Qe2g91"
      },
      "source": [
        "global_title_explode = global_title.explode(\"genres\")#separation de chaque genres en ligne"
      ],
      "execution_count": null,
      "outputs": []
    },
    {
      "cell_type": "code",
      "metadata": {
        "id": "vIPK62pN2svc"
      },
      "source": [
        "liste_genres = list(global_title_explode[\"genres\"].unique())#Vérification si les genres sont séparer\n",
        "\n"
      ],
      "execution_count": null,
      "outputs": []
    },
    {
      "cell_type": "code",
      "metadata": {
        "id": "HD_yJam-3YWI"
      },
      "source": [
        "global_title_explode = pd.concat([global_title_explode,pd.get_dummies(global_title_explode[\"genres\"])],axis=1)#Encodage des genres avec get_dumnies"
      ],
      "execution_count": null,
      "outputs": []
    },
    {
      "cell_type": "code",
      "metadata": {
        "id": "EvYvxlULdRI-"
      },
      "source": [
        "global_title_explode=global_title_explode.drop(labels=\"genres\",axis=1)#Supression de la colonne \"genres\""
      ],
      "execution_count": null,
      "outputs": []
    },
    {
      "cell_type": "markdown",
      "metadata": {
        "id": "V7it47931iiL"
      },
      "source": [
        "---------------Filtrage sur les titleType pour travailler sur moins de lignes--------------------"
      ]
    },
    {
      "cell_type": "code",
      "metadata": {
        "id": "hRJqY-9gt9tc"
      },
      "source": [
        "type_filter = \"movie\"\n",
        "global_title_filter=global_title_explode[(global_title_explode[\"titleType\"]==type_filter)]#Filtrage sur les movie pour réduire le nombres de lignes"
      ],
      "execution_count": null,
      "outputs": []
    },
    {
      "cell_type": "code",
      "metadata": {
        "id": "xv4TBQ4EuADl"
      },
      "source": [
        "#Récupération des genres\n",
        "global_title_genres=global_title_filter[['tconst', 'Action',\n",
        "       'Adult', 'Adventure', 'Animation', 'Biography', 'Comedy', 'Crime',\n",
        "       'Documentary', 'Drama', 'Family', 'Fantasy', 'Film-Noir', 'Game-Show',\n",
        "       'History', 'Horror', 'Music', 'Musical', 'Mystery', 'News',\n",
        "       'Reality-TV', 'Romance', 'Sci-Fi', 'Short', 'Sport', 'Talk-Show',\n",
        "       'Thriller', 'War', 'Western', '\\\\N', 'unknown']]"
      ],
      "execution_count": null,
      "outputs": []
    },
    {
      "cell_type": "code",
      "metadata": {
        "id": "kfCS4RqcuG2d"
      },
      "source": [
        "global_title_genres=global_title_genres.groupby(\"tconst\").sum()#Groupby sur tconst avec la somme sur les genres pour avoir une ligne 0 1 0 0 0 1 pour les genres "
      ],
      "execution_count": null,
      "outputs": []
    },
    {
      "cell_type": "code",
      "metadata": {
        "id": "7x4YbXHZ7Ri5"
      },
      "source": [
        "global_title_movie=pd.merge(global_title_filter,global_title_genres,how=\"inner\", left_on=\"tconst\" , right_on=\"tconst\")#Jointure entre les deux tables"
      ],
      "execution_count": null,
      "outputs": []
    },
    {
      "cell_type": "code",
      "metadata": {
        "id": "Y83VVQDI7RUF"
      },
      "source": [
        "global_title_movie=global_title_movie.drop(labels=['Unnamed: 0', 'Unnamed: 0.1' , 'genres'] , axis=1)#Suppression des colonnes inutiles"
      ],
      "execution_count": null,
      "outputs": []
    }
  ]
}