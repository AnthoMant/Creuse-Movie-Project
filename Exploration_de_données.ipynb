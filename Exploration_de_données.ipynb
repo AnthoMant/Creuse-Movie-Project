{
  "nbformat": 4,
  "nbformat_minor": 0,
  "metadata": {
    "colab": {
      "name": "Exploration de données.ipynb",
      "provenance": [],
      "include_colab_link": true
    },
    "kernelspec": {
      "name": "python3",
      "display_name": "Python 3"
    },
    "language_info": {
      "name": "python"
    },
    "accelerator": "GPU"
  },
  "cells": [
    {
      "cell_type": "markdown",
      "metadata": {
        "id": "view-in-github",
        "colab_type": "text"
      },
      "source": [
        "<a href=\"https://colab.research.google.com/github/AnthoMant/Creuse-Movie-Project/blob/main/Exploration_de_donn%C3%A9es.ipynb\" target=\"_parent\"><img src=\"https://colab.research.google.com/assets/colab-badge.svg\" alt=\"Open In Colab\"/></a>"
      ]
    },
    {
      "cell_type": "code",
      "metadata": {
        "id": "cGE2jPUbIkvz"
      },
      "source": [
        "import pandas as pd"
      ],
      "execution_count": 1,
      "outputs": []
    },
    {
      "cell_type": "markdown",
      "metadata": {
        "id": "iUogcxyzIwpC"
      },
      "source": [
        "# Exploration de la dataset \"name_basics\""
      ]
    },
    {
      "cell_type": "code",
      "metadata": {
        "id": "rpfhPC8xYEJ6"
      },
      "source": [
        "name_basics = pd.read_csv('https://datasets.imdbws.com/name.basics.tsv.gz', sep='\\t')"
      ],
      "execution_count": 4,
      "outputs": []
    },
    {
      "cell_type": "code",
      "metadata": {
        "colab": {
          "base_uri": "https://localhost:8080/"
        },
        "id": "M6TJE1Q1Jrqb",
        "outputId": "57d24e06-d72e-4a6a-9164-025ad977508f"
      },
      "source": [
        "name_basics.info()"
      ],
      "execution_count": 6,
      "outputs": [
        {
          "output_type": "stream",
          "text": [
            "<class 'pandas.core.frame.DataFrame'>\n",
            "RangeIndex: 10905305 entries, 0 to 10905304\n",
            "Data columns (total 6 columns):\n",
            " #   Column             Dtype \n",
            "---  ------             ----- \n",
            " 0   nconst             object\n",
            " 1   primaryName        object\n",
            " 2   birthYear          object\n",
            " 3   deathYear          object\n",
            " 4   primaryProfession  object\n",
            " 5   knownForTitles     object\n",
            "dtypes: object(6)\n",
            "memory usage: 499.2+ MB\n"
          ],
          "name": "stdout"
        }
      ]
    },
    {
      "cell_type": "code",
      "metadata": {
        "colab": {
          "base_uri": "https://localhost:8080/"
        },
        "id": "ZqVE-1DRMOod",
        "outputId": "d15acb69-3126-4465-c62a-496af523a289"
      },
      "source": [
        "name_basics.shape"
      ],
      "execution_count": 5,
      "outputs": [
        {
          "output_type": "execute_result",
          "data": {
            "text/plain": [
              "(10905305, 6)"
            ]
          },
          "metadata": {
            "tags": []
          },
          "execution_count": 5
        }
      ]
    },
    {
      "cell_type": "code",
      "metadata": {
        "colab": {
          "base_uri": "https://localhost:8080/",
          "height": 190
        },
        "id": "f6XLXnS3NQf2",
        "outputId": "b6147c06-f973-4676-a94d-83f9aa65df2a"
      },
      "source": [
        "name_basics.head()"
      ],
      "execution_count": 6,
      "outputs": [
        {
          "output_type": "execute_result",
          "data": {
            "text/html": [
              "<div>\n",
              "<style scoped>\n",
              "    .dataframe tbody tr th:only-of-type {\n",
              "        vertical-align: middle;\n",
              "    }\n",
              "\n",
              "    .dataframe tbody tr th {\n",
              "        vertical-align: top;\n",
              "    }\n",
              "\n",
              "    .dataframe thead th {\n",
              "        text-align: right;\n",
              "    }\n",
              "</style>\n",
              "<table border=\"1\" class=\"dataframe\">\n",
              "  <thead>\n",
              "    <tr style=\"text-align: right;\">\n",
              "      <th></th>\n",
              "      <th>nconst</th>\n",
              "      <th>primaryName</th>\n",
              "      <th>birthYear</th>\n",
              "      <th>deathYear</th>\n",
              "      <th>primaryProfession</th>\n",
              "      <th>knownForTitles</th>\n",
              "    </tr>\n",
              "  </thead>\n",
              "  <tbody>\n",
              "    <tr>\n",
              "      <th>0</th>\n",
              "      <td>nm0000001</td>\n",
              "      <td>Fred Astaire</td>\n",
              "      <td>1899</td>\n",
              "      <td>1987</td>\n",
              "      <td>soundtrack,actor,miscellaneous</td>\n",
              "      <td>tt0072308,tt0031983,tt0050419,tt0053137</td>\n",
              "    </tr>\n",
              "    <tr>\n",
              "      <th>1</th>\n",
              "      <td>nm0000002</td>\n",
              "      <td>Lauren Bacall</td>\n",
              "      <td>1924</td>\n",
              "      <td>2014</td>\n",
              "      <td>actress,soundtrack</td>\n",
              "      <td>tt0037382,tt0117057,tt0038355,tt0071877</td>\n",
              "    </tr>\n",
              "    <tr>\n",
              "      <th>2</th>\n",
              "      <td>nm0000003</td>\n",
              "      <td>Brigitte Bardot</td>\n",
              "      <td>1934</td>\n",
              "      <td>\\N</td>\n",
              "      <td>actress,soundtrack,music_department</td>\n",
              "      <td>tt0056404,tt0049189,tt0057345,tt0054452</td>\n",
              "    </tr>\n",
              "    <tr>\n",
              "      <th>3</th>\n",
              "      <td>nm0000004</td>\n",
              "      <td>John Belushi</td>\n",
              "      <td>1949</td>\n",
              "      <td>1982</td>\n",
              "      <td>actor,soundtrack,writer</td>\n",
              "      <td>tt0072562,tt0078723,tt0080455,tt0077975</td>\n",
              "    </tr>\n",
              "    <tr>\n",
              "      <th>4</th>\n",
              "      <td>nm0000005</td>\n",
              "      <td>Ingmar Bergman</td>\n",
              "      <td>1918</td>\n",
              "      <td>2007</td>\n",
              "      <td>writer,director,actor</td>\n",
              "      <td>tt0050976,tt0050986,tt0069467,tt0060827</td>\n",
              "    </tr>\n",
              "  </tbody>\n",
              "</table>\n",
              "</div>"
            ],
            "text/plain": [
              "      nconst  ...                           knownForTitles\n",
              "0  nm0000001  ...  tt0072308,tt0031983,tt0050419,tt0053137\n",
              "1  nm0000002  ...  tt0037382,tt0117057,tt0038355,tt0071877\n",
              "2  nm0000003  ...  tt0056404,tt0049189,tt0057345,tt0054452\n",
              "3  nm0000004  ...  tt0072562,tt0078723,tt0080455,tt0077975\n",
              "4  nm0000005  ...  tt0050976,tt0050986,tt0069467,tt0060827\n",
              "\n",
              "[5 rows x 6 columns]"
            ]
          },
          "metadata": {
            "tags": []
          },
          "execution_count": 6
        }
      ]
    },
    {
      "cell_type": "markdown",
      "metadata": {
        "id": "Taa1ILgeOmuU"
      },
      "source": [
        "Table contenant les noms, prénoms des employés cinématographique. Elle nous indique les années de naissance ainsi que l'année de leur mort. Nous pouvons également observer leurs proféssions et dans quel oeuvre ils interviennent. Plus de 1M de personnes sont présente, et chaque valeurs de cette table ont le même type soit \"object\""
      ]
    },
    {
      "cell_type": "markdown",
      "metadata": {
        "id": "WWS1DDLuJWCL"
      },
      "source": [
        "# Exploration de la dataset \"title_akas\""
      ]
    },
    {
      "cell_type": "code",
      "metadata": {
        "id": "pqGQVXgbtLd7"
      },
      "source": [
        "title_akas = pd.read_csv('https://datasets.imdbws.com/title.akas.tsv.gz', sep='\\t')"
      ],
      "execution_count": null,
      "outputs": []
    },
    {
      "cell_type": "code",
      "metadata": {
        "colab": {
          "base_uri": "https://localhost:8080/"
        },
        "id": "YiA2-o1HJ1e6",
        "outputId": "bf8c5da3-9e52-41da-b728-8d7cc5e308f5"
      },
      "source": [
        "title_akas.info()"
      ],
      "execution_count": 8,
      "outputs": [
        {
          "output_type": "stream",
          "text": [
            "<class 'pandas.core.frame.DataFrame'>\n",
            "RangeIndex: 26163651 entries, 0 to 26163650\n",
            "Data columns (total 8 columns):\n",
            " #   Column           Dtype \n",
            "---  ------           ----- \n",
            " 0   titleId          object\n",
            " 1   ordering         int64 \n",
            " 2   title            object\n",
            " 3   region           object\n",
            " 4   language         object\n",
            " 5   types            object\n",
            " 6   attributes       object\n",
            " 7   isOriginalTitle  object\n",
            "dtypes: int64(1), object(7)\n",
            "memory usage: 1.6+ GB\n"
          ],
          "name": "stdout"
        }
      ]
    },
    {
      "cell_type": "code",
      "metadata": {
        "colab": {
          "base_uri": "https://localhost:8080/"
        },
        "id": "ZXuuABo3MMhn",
        "outputId": "95d3a937-e82d-4092-826d-b24286409eed"
      },
      "source": [
        "title_akas.shape"
      ],
      "execution_count": 3,
      "outputs": [
        {
          "output_type": "execute_result",
          "data": {
            "text/plain": [
              "(26163651, 8)"
            ]
          },
          "metadata": {
            "tags": []
          },
          "execution_count": 3
        }
      ]
    },
    {
      "cell_type": "code",
      "metadata": {
        "colab": {
          "base_uri": "https://localhost:8080/",
          "height": 334
        },
        "id": "WCOLrZ0oNXvj",
        "outputId": "b027bb61-08fc-4405-bb0f-3c44ab8b53c1"
      },
      "source": [
        "title_akas.head(10)"
      ],
      "execution_count": 7,
      "outputs": [
        {
          "output_type": "execute_result",
          "data": {
            "text/html": [
              "<div>\n",
              "<style scoped>\n",
              "    .dataframe tbody tr th:only-of-type {\n",
              "        vertical-align: middle;\n",
              "    }\n",
              "\n",
              "    .dataframe tbody tr th {\n",
              "        vertical-align: top;\n",
              "    }\n",
              "\n",
              "    .dataframe thead th {\n",
              "        text-align: right;\n",
              "    }\n",
              "</style>\n",
              "<table border=\"1\" class=\"dataframe\">\n",
              "  <thead>\n",
              "    <tr style=\"text-align: right;\">\n",
              "      <th></th>\n",
              "      <th>titleId</th>\n",
              "      <th>ordering</th>\n",
              "      <th>title</th>\n",
              "      <th>region</th>\n",
              "      <th>language</th>\n",
              "      <th>types</th>\n",
              "      <th>attributes</th>\n",
              "      <th>isOriginalTitle</th>\n",
              "    </tr>\n",
              "  </thead>\n",
              "  <tbody>\n",
              "    <tr>\n",
              "      <th>0</th>\n",
              "      <td>tt0000001</td>\n",
              "      <td>1</td>\n",
              "      <td>Карменсіта</td>\n",
              "      <td>UA</td>\n",
              "      <td>\\N</td>\n",
              "      <td>imdbDisplay</td>\n",
              "      <td>\\N</td>\n",
              "      <td>0</td>\n",
              "    </tr>\n",
              "    <tr>\n",
              "      <th>1</th>\n",
              "      <td>tt0000001</td>\n",
              "      <td>2</td>\n",
              "      <td>Carmencita</td>\n",
              "      <td>DE</td>\n",
              "      <td>\\N</td>\n",
              "      <td>\\N</td>\n",
              "      <td>literal title</td>\n",
              "      <td>0</td>\n",
              "    </tr>\n",
              "    <tr>\n",
              "      <th>2</th>\n",
              "      <td>tt0000001</td>\n",
              "      <td>3</td>\n",
              "      <td>Carmencita - spanyol tánc</td>\n",
              "      <td>HU</td>\n",
              "      <td>\\N</td>\n",
              "      <td>imdbDisplay</td>\n",
              "      <td>\\N</td>\n",
              "      <td>0</td>\n",
              "    </tr>\n",
              "    <tr>\n",
              "      <th>3</th>\n",
              "      <td>tt0000001</td>\n",
              "      <td>4</td>\n",
              "      <td>Καρμενσίτα</td>\n",
              "      <td>GR</td>\n",
              "      <td>\\N</td>\n",
              "      <td>imdbDisplay</td>\n",
              "      <td>\\N</td>\n",
              "      <td>0</td>\n",
              "    </tr>\n",
              "    <tr>\n",
              "      <th>4</th>\n",
              "      <td>tt0000001</td>\n",
              "      <td>5</td>\n",
              "      <td>Карменсита</td>\n",
              "      <td>RU</td>\n",
              "      <td>\\N</td>\n",
              "      <td>imdbDisplay</td>\n",
              "      <td>\\N</td>\n",
              "      <td>0</td>\n",
              "    </tr>\n",
              "    <tr>\n",
              "      <th>5</th>\n",
              "      <td>tt0000001</td>\n",
              "      <td>6</td>\n",
              "      <td>Carmencita</td>\n",
              "      <td>US</td>\n",
              "      <td>\\N</td>\n",
              "      <td>\\N</td>\n",
              "      <td>\\N</td>\n",
              "      <td>0</td>\n",
              "    </tr>\n",
              "    <tr>\n",
              "      <th>6</th>\n",
              "      <td>tt0000001</td>\n",
              "      <td>7</td>\n",
              "      <td>Carmencita</td>\n",
              "      <td>\\N</td>\n",
              "      <td>\\N</td>\n",
              "      <td>original</td>\n",
              "      <td>\\N</td>\n",
              "      <td>1</td>\n",
              "    </tr>\n",
              "    <tr>\n",
              "      <th>7</th>\n",
              "      <td>tt0000001</td>\n",
              "      <td>8</td>\n",
              "      <td>カルメンチータ</td>\n",
              "      <td>JP</td>\n",
              "      <td>ja</td>\n",
              "      <td>imdbDisplay</td>\n",
              "      <td>\\N</td>\n",
              "      <td>0</td>\n",
              "    </tr>\n",
              "    <tr>\n",
              "      <th>8</th>\n",
              "      <td>tt0000002</td>\n",
              "      <td>1</td>\n",
              "      <td>Le clown et ses chiens</td>\n",
              "      <td>\\N</td>\n",
              "      <td>\\N</td>\n",
              "      <td>original</td>\n",
              "      <td>\\N</td>\n",
              "      <td>1</td>\n",
              "    </tr>\n",
              "    <tr>\n",
              "      <th>9</th>\n",
              "      <td>tt0000002</td>\n",
              "      <td>2</td>\n",
              "      <td>A bohóc és kutyái</td>\n",
              "      <td>HU</td>\n",
              "      <td>\\N</td>\n",
              "      <td>imdbDisplay</td>\n",
              "      <td>\\N</td>\n",
              "      <td>0</td>\n",
              "    </tr>\n",
              "  </tbody>\n",
              "</table>\n",
              "</div>"
            ],
            "text/plain": [
              "     titleId  ordering  ...     attributes isOriginalTitle\n",
              "0  tt0000001         1  ...             \\N               0\n",
              "1  tt0000001         2  ...  literal title               0\n",
              "2  tt0000001         3  ...             \\N               0\n",
              "3  tt0000001         4  ...             \\N               0\n",
              "4  tt0000001         5  ...             \\N               0\n",
              "5  tt0000001         6  ...             \\N               0\n",
              "6  tt0000001         7  ...             \\N               1\n",
              "7  tt0000001         8  ...             \\N               0\n",
              "8  tt0000002         1  ...             \\N               1\n",
              "9  tt0000002         2  ...             \\N               0\n",
              "\n",
              "[10 rows x 8 columns]"
            ]
          },
          "metadata": {
            "tags": []
          },
          "execution_count": 7
        }
      ]
    },
    {
      "cell_type": "markdown",
      "metadata": {
        "id": "J_2uaiEFQFfE"
      },
      "source": [
        "Table contenant les films pour chaques régions, nous pouvons voir le titre original quand la valeur est 1 dans la colonne \"isOriginalTitle\". Malheureusement si la valeur de \"isOriginalTitle\" est 1 la valeur de \"regions\" n'est pas renseigner. Nous ne pourrons certainement pas classer les oeuvre par region d'origine."
      ]
    },
    {
      "cell_type": "markdown",
      "metadata": {
        "id": "OYoXk18WI74L"
      },
      "source": [
        "# Exploration de la dataset \"title_basics\""
      ]
    },
    {
      "cell_type": "code",
      "metadata": {
        "id": "B7FgZgY0tXpe"
      },
      "source": [
        "title_basics = pd.read_csv('https://datasets.imdbws.com/title.basics.tsv.gz', sep='\\t')\n"
      ],
      "execution_count": null,
      "outputs": []
    },
    {
      "cell_type": "code",
      "metadata": {
        "colab": {
          "base_uri": "https://localhost:8080/"
        },
        "id": "r4RWFdCYJ5zq",
        "outputId": "0260b952-d975-4fcf-8742-210698fcd957"
      },
      "source": [
        "title_basics.info()"
      ],
      "execution_count": 10,
      "outputs": [
        {
          "output_type": "stream",
          "text": [
            "<class 'pandas.core.frame.DataFrame'>\n",
            "RangeIndex: 7872543 entries, 0 to 7872542\n",
            "Data columns (total 9 columns):\n",
            " #   Column          Dtype \n",
            "---  ------          ----- \n",
            " 0   tconst          object\n",
            " 1   titleType       object\n",
            " 2   primaryTitle    object\n",
            " 3   originalTitle   object\n",
            " 4   isAdult         object\n",
            " 5   startYear       object\n",
            " 6   endYear         object\n",
            " 7   runtimeMinutes  object\n",
            " 8   genres          object\n",
            "dtypes: object(9)\n",
            "memory usage: 540.6+ MB\n"
          ],
          "name": "stdout"
        }
      ]
    },
    {
      "cell_type": "code",
      "metadata": {
        "colab": {
          "base_uri": "https://localhost:8080/"
        },
        "id": "dg9n8MOwMIuD",
        "outputId": "c2870244-4c95-4b1b-8855-600758009979"
      },
      "source": [
        "title_basics.shape"
      ],
      "execution_count": 16,
      "outputs": [
        {
          "output_type": "execute_result",
          "data": {
            "text/plain": [
              "(7872543, 9)"
            ]
          },
          "metadata": {
            "tags": []
          },
          "execution_count": 16
        }
      ]
    },
    {
      "cell_type": "code",
      "metadata": {
        "colab": {
          "base_uri": "https://localhost:8080/"
        },
        "id": "mHsPxDlDRIM7",
        "outputId": "18115ed4-a02f-43c8-b9c9-c741593987e1"
      },
      "source": [
        "title_basics[\"titleType\"].unique()"
      ],
      "execution_count": 9,
      "outputs": [
        {
          "output_type": "execute_result",
          "data": {
            "text/plain": [
              "array(['short', 'movie', 'tvShort', 'tvMovie', 'tvSeries', 'tvEpisode',\n",
              "       'tvMiniSeries', 'tvSpecial', 'video', 'videoGame'], dtype=object)"
            ]
          },
          "metadata": {
            "tags": []
          },
          "execution_count": 9
        }
      ]
    },
    {
      "cell_type": "code",
      "metadata": {
        "colab": {
          "base_uri": "https://localhost:8080/",
          "height": 190
        },
        "id": "jQgCfM7-NcGU",
        "outputId": "4c87d61d-02be-45f1-a901-80dbd56f3a49"
      },
      "source": [
        "title_basics.head()"
      ],
      "execution_count": 9,
      "outputs": [
        {
          "output_type": "execute_result",
          "data": {
            "text/html": [
              "<div>\n",
              "<style scoped>\n",
              "    .dataframe tbody tr th:only-of-type {\n",
              "        vertical-align: middle;\n",
              "    }\n",
              "\n",
              "    .dataframe tbody tr th {\n",
              "        vertical-align: top;\n",
              "    }\n",
              "\n",
              "    .dataframe thead th {\n",
              "        text-align: right;\n",
              "    }\n",
              "</style>\n",
              "<table border=\"1\" class=\"dataframe\">\n",
              "  <thead>\n",
              "    <tr style=\"text-align: right;\">\n",
              "      <th></th>\n",
              "      <th>tconst</th>\n",
              "      <th>titleType</th>\n",
              "      <th>primaryTitle</th>\n",
              "      <th>originalTitle</th>\n",
              "      <th>isAdult</th>\n",
              "      <th>startYear</th>\n",
              "      <th>endYear</th>\n",
              "      <th>runtimeMinutes</th>\n",
              "      <th>genres</th>\n",
              "    </tr>\n",
              "  </thead>\n",
              "  <tbody>\n",
              "    <tr>\n",
              "      <th>0</th>\n",
              "      <td>tt0000001</td>\n",
              "      <td>short</td>\n",
              "      <td>Carmencita</td>\n",
              "      <td>Carmencita</td>\n",
              "      <td>0</td>\n",
              "      <td>1894</td>\n",
              "      <td>\\N</td>\n",
              "      <td>1</td>\n",
              "      <td>Documentary,Short</td>\n",
              "    </tr>\n",
              "    <tr>\n",
              "      <th>1</th>\n",
              "      <td>tt0000002</td>\n",
              "      <td>short</td>\n",
              "      <td>Le clown et ses chiens</td>\n",
              "      <td>Le clown et ses chiens</td>\n",
              "      <td>0</td>\n",
              "      <td>1892</td>\n",
              "      <td>\\N</td>\n",
              "      <td>5</td>\n",
              "      <td>Animation,Short</td>\n",
              "    </tr>\n",
              "    <tr>\n",
              "      <th>2</th>\n",
              "      <td>tt0000003</td>\n",
              "      <td>short</td>\n",
              "      <td>Pauvre Pierrot</td>\n",
              "      <td>Pauvre Pierrot</td>\n",
              "      <td>0</td>\n",
              "      <td>1892</td>\n",
              "      <td>\\N</td>\n",
              "      <td>4</td>\n",
              "      <td>Animation,Comedy,Romance</td>\n",
              "    </tr>\n",
              "    <tr>\n",
              "      <th>3</th>\n",
              "      <td>tt0000004</td>\n",
              "      <td>short</td>\n",
              "      <td>Un bon bock</td>\n",
              "      <td>Un bon bock</td>\n",
              "      <td>0</td>\n",
              "      <td>1892</td>\n",
              "      <td>\\N</td>\n",
              "      <td>12</td>\n",
              "      <td>Animation,Short</td>\n",
              "    </tr>\n",
              "    <tr>\n",
              "      <th>4</th>\n",
              "      <td>tt0000005</td>\n",
              "      <td>short</td>\n",
              "      <td>Blacksmith Scene</td>\n",
              "      <td>Blacksmith Scene</td>\n",
              "      <td>0</td>\n",
              "      <td>1893</td>\n",
              "      <td>\\N</td>\n",
              "      <td>1</td>\n",
              "      <td>Comedy,Short</td>\n",
              "    </tr>\n",
              "  </tbody>\n",
              "</table>\n",
              "</div>"
            ],
            "text/plain": [
              "      tconst titleType  ... runtimeMinutes                    genres\n",
              "0  tt0000001     short  ...              1         Documentary,Short\n",
              "1  tt0000002     short  ...              5           Animation,Short\n",
              "2  tt0000003     short  ...              4  Animation,Comedy,Romance\n",
              "3  tt0000004     short  ...             12           Animation,Short\n",
              "4  tt0000005     short  ...              1              Comedy,Short\n",
              "\n",
              "[5 rows x 9 columns]"
            ]
          },
          "metadata": {
            "tags": []
          },
          "execution_count": 9
        }
      ]
    },
    {
      "cell_type": "markdown",
      "metadata": {
        "id": "kYylYcDsQ6JM"
      },
      "source": [
        "Cette table contient tout les films avec leurs caractéristique ( date de sortie, date de fin dans le cas d'une série , la durée, et les genres ). Nous pouvons observer qu'il existe 10 type pour les titres. Travaillant pour un cinéma nous allons certainement nous concentrer sur le type \"movie\""
      ]
    },
    {
      "cell_type": "markdown",
      "metadata": {
        "id": "IO-BeHEUJAPZ"
      },
      "source": [
        "# Exploration de la dataset \"title_crew\""
      ]
    },
    {
      "cell_type": "code",
      "metadata": {
        "id": "vZZmHmZXt6ma"
      },
      "source": [
        "title_crew = pd.read_csv('https://datasets.imdbws.com/title.crew.tsv.gz', sep='\\t')"
      ],
      "execution_count": 10,
      "outputs": []
    },
    {
      "cell_type": "code",
      "metadata": {
        "colab": {
          "base_uri": "https://localhost:8080/"
        },
        "id": "Fefm4F1cJ-kt",
        "outputId": "5a7978c0-fb76-4239-f383-f0a3ea398429"
      },
      "source": [
        "title_crew.info()"
      ],
      "execution_count": 11,
      "outputs": [
        {
          "output_type": "stream",
          "text": [
            "<class 'pandas.core.frame.DataFrame'>\n",
            "RangeIndex: 7872543 entries, 0 to 7872542\n",
            "Data columns (total 3 columns):\n",
            " #   Column     Dtype \n",
            "---  ------     ----- \n",
            " 0   tconst     object\n",
            " 1   directors  object\n",
            " 2   writers    object\n",
            "dtypes: object(3)\n",
            "memory usage: 180.2+ MB\n"
          ],
          "name": "stdout"
        }
      ]
    },
    {
      "cell_type": "code",
      "metadata": {
        "colab": {
          "base_uri": "https://localhost:8080/"
        },
        "id": "1A_NrJtZLt8V",
        "outputId": "633bece6-e657-48e6-c3f7-de8267b32542"
      },
      "source": [
        "title_crew.shape"
      ],
      "execution_count": 14,
      "outputs": [
        {
          "output_type": "execute_result",
          "data": {
            "text/plain": [
              "(7872543, 3)"
            ]
          },
          "metadata": {
            "tags": []
          },
          "execution_count": 14
        }
      ]
    },
    {
      "cell_type": "code",
      "metadata": {
        "colab": {
          "base_uri": "https://localhost:8080/",
          "height": 190
        },
        "id": "pDuwyDOENg4q",
        "outputId": "416f1938-b053-44e3-a603-2273a88b298f"
      },
      "source": [
        "title_crew.head()"
      ],
      "execution_count": 11,
      "outputs": [
        {
          "output_type": "execute_result",
          "data": {
            "text/html": [
              "<div>\n",
              "<style scoped>\n",
              "    .dataframe tbody tr th:only-of-type {\n",
              "        vertical-align: middle;\n",
              "    }\n",
              "\n",
              "    .dataframe tbody tr th {\n",
              "        vertical-align: top;\n",
              "    }\n",
              "\n",
              "    .dataframe thead th {\n",
              "        text-align: right;\n",
              "    }\n",
              "</style>\n",
              "<table border=\"1\" class=\"dataframe\">\n",
              "  <thead>\n",
              "    <tr style=\"text-align: right;\">\n",
              "      <th></th>\n",
              "      <th>tconst</th>\n",
              "      <th>directors</th>\n",
              "      <th>writers</th>\n",
              "    </tr>\n",
              "  </thead>\n",
              "  <tbody>\n",
              "    <tr>\n",
              "      <th>0</th>\n",
              "      <td>tt0000001</td>\n",
              "      <td>nm0005690</td>\n",
              "      <td>\\N</td>\n",
              "    </tr>\n",
              "    <tr>\n",
              "      <th>1</th>\n",
              "      <td>tt0000002</td>\n",
              "      <td>nm0721526</td>\n",
              "      <td>\\N</td>\n",
              "    </tr>\n",
              "    <tr>\n",
              "      <th>2</th>\n",
              "      <td>tt0000003</td>\n",
              "      <td>nm0721526</td>\n",
              "      <td>\\N</td>\n",
              "    </tr>\n",
              "    <tr>\n",
              "      <th>3</th>\n",
              "      <td>tt0000004</td>\n",
              "      <td>nm0721526</td>\n",
              "      <td>\\N</td>\n",
              "    </tr>\n",
              "    <tr>\n",
              "      <th>4</th>\n",
              "      <td>tt0000005</td>\n",
              "      <td>nm0005690</td>\n",
              "      <td>\\N</td>\n",
              "    </tr>\n",
              "  </tbody>\n",
              "</table>\n",
              "</div>"
            ],
            "text/plain": [
              "      tconst  directors writers\n",
              "0  tt0000001  nm0005690      \\N\n",
              "1  tt0000002  nm0721526      \\N\n",
              "2  tt0000003  nm0721526      \\N\n",
              "3  tt0000004  nm0721526      \\N\n",
              "4  tt0000005  nm0005690      \\N"
            ]
          },
          "metadata": {
            "tags": []
          },
          "execution_count": 11
        }
      ]
    },
    {
      "cell_type": "markdown",
      "metadata": {
        "id": "7eJ3FuoASb9Z"
      },
      "source": [
        "Table contenant le réalisateur de chaque films"
      ]
    },
    {
      "cell_type": "markdown",
      "metadata": {
        "id": "SLxXuLu7JEV9"
      },
      "source": [
        "# Exploration de la dataset \"title_episode\""
      ]
    },
    {
      "cell_type": "code",
      "metadata": {
        "id": "UxqGXRaMt6y0"
      },
      "source": [
        "title_episode = pd.read_csv('https://datasets.imdbws.com/title.episode.tsv.gz', sep='\\t')"
      ],
      "execution_count": 2,
      "outputs": []
    },
    {
      "cell_type": "code",
      "metadata": {
        "colab": {
          "base_uri": "https://localhost:8080/"
        },
        "id": "BrHrXNThKFU_",
        "outputId": "c7fba223-73b2-41b9-be26-c2f314c53478"
      },
      "source": [
        "title_episode.info()"
      ],
      "execution_count": 3,
      "outputs": [
        {
          "output_type": "stream",
          "text": [
            "<class 'pandas.core.frame.DataFrame'>\n",
            "RangeIndex: 5737473 entries, 0 to 5737472\n",
            "Data columns (total 4 columns):\n",
            " #   Column         Dtype \n",
            "---  ------         ----- \n",
            " 0   tconst         object\n",
            " 1   parentTconst   object\n",
            " 2   seasonNumber   object\n",
            " 3   episodeNumber  object\n",
            "dtypes: object(4)\n",
            "memory usage: 175.1+ MB\n"
          ],
          "name": "stdout"
        }
      ]
    },
    {
      "cell_type": "code",
      "metadata": {
        "colab": {
          "base_uri": "https://localhost:8080/"
        },
        "id": "ta-Ol0cMLo0b",
        "outputId": "22ef4107-30ee-4c03-e4eb-8ac60486cdc8"
      },
      "source": [
        "title_episode.shape"
      ],
      "execution_count": 11,
      "outputs": [
        {
          "output_type": "execute_result",
          "data": {
            "text/plain": [
              "(5737473, 4)"
            ]
          },
          "metadata": {
            "tags": []
          },
          "execution_count": 11
        }
      ]
    },
    {
      "cell_type": "code",
      "metadata": {
        "colab": {
          "base_uri": "https://localhost:8080/",
          "height": 190
        },
        "id": "ioiIIYZcNjqt",
        "outputId": "2c76d580-0122-423e-8e57-31f2358bcafa"
      },
      "source": [
        "title_episode.head()"
      ],
      "execution_count": 3,
      "outputs": [
        {
          "output_type": "execute_result",
          "data": {
            "text/html": [
              "<div>\n",
              "<style scoped>\n",
              "    .dataframe tbody tr th:only-of-type {\n",
              "        vertical-align: middle;\n",
              "    }\n",
              "\n",
              "    .dataframe tbody tr th {\n",
              "        vertical-align: top;\n",
              "    }\n",
              "\n",
              "    .dataframe thead th {\n",
              "        text-align: right;\n",
              "    }\n",
              "</style>\n",
              "<table border=\"1\" class=\"dataframe\">\n",
              "  <thead>\n",
              "    <tr style=\"text-align: right;\">\n",
              "      <th></th>\n",
              "      <th>tconst</th>\n",
              "      <th>parentTconst</th>\n",
              "      <th>seasonNumber</th>\n",
              "      <th>episodeNumber</th>\n",
              "    </tr>\n",
              "  </thead>\n",
              "  <tbody>\n",
              "    <tr>\n",
              "      <th>0</th>\n",
              "      <td>tt0041951</td>\n",
              "      <td>tt0041038</td>\n",
              "      <td>1</td>\n",
              "      <td>9</td>\n",
              "    </tr>\n",
              "    <tr>\n",
              "      <th>1</th>\n",
              "      <td>tt0042816</td>\n",
              "      <td>tt0989125</td>\n",
              "      <td>1</td>\n",
              "      <td>17</td>\n",
              "    </tr>\n",
              "    <tr>\n",
              "      <th>2</th>\n",
              "      <td>tt0042889</td>\n",
              "      <td>tt0989125</td>\n",
              "      <td>\\N</td>\n",
              "      <td>\\N</td>\n",
              "    </tr>\n",
              "    <tr>\n",
              "      <th>3</th>\n",
              "      <td>tt0043426</td>\n",
              "      <td>tt0040051</td>\n",
              "      <td>3</td>\n",
              "      <td>42</td>\n",
              "    </tr>\n",
              "    <tr>\n",
              "      <th>4</th>\n",
              "      <td>tt0043631</td>\n",
              "      <td>tt0989125</td>\n",
              "      <td>2</td>\n",
              "      <td>16</td>\n",
              "    </tr>\n",
              "  </tbody>\n",
              "</table>\n",
              "</div>"
            ],
            "text/plain": [
              "      tconst parentTconst seasonNumber episodeNumber\n",
              "0  tt0041951    tt0041038            1             9\n",
              "1  tt0042816    tt0989125            1            17\n",
              "2  tt0042889    tt0989125           \\N            \\N\n",
              "3  tt0043426    tt0040051            3            42\n",
              "4  tt0043631    tt0989125            2            16"
            ]
          },
          "metadata": {
            "tags": []
          },
          "execution_count": 3
        }
      ]
    },
    {
      "cell_type": "markdown",
      "metadata": {
        "id": "gijQU__mSisZ"
      },
      "source": [
        "Tables contenant chaque épisode des séries (pas très utile pour notre cinéma)"
      ]
    },
    {
      "cell_type": "markdown",
      "metadata": {
        "id": "2cOOQSVSJKL_"
      },
      "source": [
        "# Exploration de la dataset \"title_principals\""
      ]
    },
    {
      "cell_type": "code",
      "metadata": {
        "id": "sdat0jLjuW3C"
      },
      "source": [
        "title_principals = pd.read_csv('https://datasets.imdbws.com/title.principals.tsv.gz', sep='\\t')"
      ],
      "execution_count": 4,
      "outputs": []
    },
    {
      "cell_type": "code",
      "metadata": {
        "colab": {
          "base_uri": "https://localhost:8080/"
        },
        "id": "vXrLsqX_KjKg",
        "outputId": "966087c0-273b-4c4b-f68f-82692fdc1720"
      },
      "source": [
        "title_principals.info()"
      ],
      "execution_count": 5,
      "outputs": [
        {
          "output_type": "stream",
          "text": [
            "<class 'pandas.core.frame.DataFrame'>\n",
            "RangeIndex: 44525540 entries, 0 to 44525539\n",
            "Data columns (total 6 columns):\n",
            " #   Column      Dtype \n",
            "---  ------      ----- \n",
            " 0   tconst      object\n",
            " 1   ordering    int64 \n",
            " 2   nconst      object\n",
            " 3   category    object\n",
            " 4   job         object\n",
            " 5   characters  object\n",
            "dtypes: int64(1), object(5)\n",
            "memory usage: 2.0+ GB\n"
          ],
          "name": "stdout"
        }
      ]
    },
    {
      "cell_type": "code",
      "metadata": {
        "colab": {
          "base_uri": "https://localhost:8080/"
        },
        "id": "OOmzkcpRLks_",
        "outputId": "a3c3797e-3724-4a63-cf21-6cb49f9a491d"
      },
      "source": [
        "title_principals.shape"
      ],
      "execution_count": 10,
      "outputs": [
        {
          "output_type": "execute_result",
          "data": {
            "text/plain": [
              "(44525540, 6)"
            ]
          },
          "metadata": {
            "tags": []
          },
          "execution_count": 10
        }
      ]
    },
    {
      "cell_type": "code",
      "metadata": {
        "colab": {
          "base_uri": "https://localhost:8080/",
          "height": 190
        },
        "id": "S_uMNZzNNml5",
        "outputId": "2c884e71-8ccc-4824-e517-66a72f03b988"
      },
      "source": [
        "title_principals.head()"
      ],
      "execution_count": 5,
      "outputs": [
        {
          "output_type": "execute_result",
          "data": {
            "text/html": [
              "<div>\n",
              "<style scoped>\n",
              "    .dataframe tbody tr th:only-of-type {\n",
              "        vertical-align: middle;\n",
              "    }\n",
              "\n",
              "    .dataframe tbody tr th {\n",
              "        vertical-align: top;\n",
              "    }\n",
              "\n",
              "    .dataframe thead th {\n",
              "        text-align: right;\n",
              "    }\n",
              "</style>\n",
              "<table border=\"1\" class=\"dataframe\">\n",
              "  <thead>\n",
              "    <tr style=\"text-align: right;\">\n",
              "      <th></th>\n",
              "      <th>tconst</th>\n",
              "      <th>ordering</th>\n",
              "      <th>nconst</th>\n",
              "      <th>category</th>\n",
              "      <th>job</th>\n",
              "      <th>characters</th>\n",
              "    </tr>\n",
              "  </thead>\n",
              "  <tbody>\n",
              "    <tr>\n",
              "      <th>0</th>\n",
              "      <td>tt0000001</td>\n",
              "      <td>1</td>\n",
              "      <td>nm1588970</td>\n",
              "      <td>self</td>\n",
              "      <td>\\N</td>\n",
              "      <td>[\"Self\"]</td>\n",
              "    </tr>\n",
              "    <tr>\n",
              "      <th>1</th>\n",
              "      <td>tt0000001</td>\n",
              "      <td>2</td>\n",
              "      <td>nm0005690</td>\n",
              "      <td>director</td>\n",
              "      <td>\\N</td>\n",
              "      <td>\\N</td>\n",
              "    </tr>\n",
              "    <tr>\n",
              "      <th>2</th>\n",
              "      <td>tt0000001</td>\n",
              "      <td>3</td>\n",
              "      <td>nm0374658</td>\n",
              "      <td>cinematographer</td>\n",
              "      <td>director of photography</td>\n",
              "      <td>\\N</td>\n",
              "    </tr>\n",
              "    <tr>\n",
              "      <th>3</th>\n",
              "      <td>tt0000002</td>\n",
              "      <td>1</td>\n",
              "      <td>nm0721526</td>\n",
              "      <td>director</td>\n",
              "      <td>\\N</td>\n",
              "      <td>\\N</td>\n",
              "    </tr>\n",
              "    <tr>\n",
              "      <th>4</th>\n",
              "      <td>tt0000002</td>\n",
              "      <td>2</td>\n",
              "      <td>nm1335271</td>\n",
              "      <td>composer</td>\n",
              "      <td>\\N</td>\n",
              "      <td>\\N</td>\n",
              "    </tr>\n",
              "  </tbody>\n",
              "</table>\n",
              "</div>"
            ],
            "text/plain": [
              "      tconst  ordering  ...                      job characters\n",
              "0  tt0000001         1  ...                       \\N   [\"Self\"]\n",
              "1  tt0000001         2  ...                       \\N         \\N\n",
              "2  tt0000001         3  ...  director of photography         \\N\n",
              "3  tt0000002         1  ...                       \\N         \\N\n",
              "4  tt0000002         2  ...                       \\N         \\N\n",
              "\n",
              "[5 rows x 6 columns]"
            ]
          },
          "metadata": {
            "tags": []
          },
          "execution_count": 5
        }
      ]
    },
    {
      "cell_type": "markdown",
      "metadata": {
        "id": "9_0--pBSTDjZ"
      },
      "source": [
        "Table contenant les employés pour chaque films ainsi que son role au sein du film ."
      ]
    },
    {
      "cell_type": "markdown",
      "metadata": {
        "id": "f7sMIsSwJN-P"
      },
      "source": [
        "# Exploration de la dataset \"title_ratings\""
      ]
    },
    {
      "cell_type": "code",
      "metadata": {
        "id": "kleZN0QXuX6w"
      },
      "source": [
        "title_ratings = pd.read_csv('https://datasets.imdbws.com/title.ratings.tsv.gz', sep='\\t')"
      ],
      "execution_count": 12,
      "outputs": []
    },
    {
      "cell_type": "code",
      "metadata": {
        "colab": {
          "base_uri": "https://localhost:8080/"
        },
        "id": "f8P1abwrKpQW",
        "outputId": "eb071d29-9694-4131-a00f-202b10dee2f7"
      },
      "source": [
        "title_ratings.info()"
      ],
      "execution_count": 8,
      "outputs": [
        {
          "output_type": "stream",
          "text": [
            "<class 'pandas.core.frame.DataFrame'>\n",
            "RangeIndex: 1148911 entries, 0 to 1148910\n",
            "Data columns (total 3 columns):\n",
            " #   Column         Non-Null Count    Dtype  \n",
            "---  ------         --------------    -----  \n",
            " 0   tconst         1148911 non-null  object \n",
            " 1   averageRating  1148911 non-null  float64\n",
            " 2   numVotes       1148911 non-null  int64  \n",
            "dtypes: float64(1), int64(1), object(1)\n",
            "memory usage: 26.3+ MB\n"
          ],
          "name": "stdout"
        }
      ]
    },
    {
      "cell_type": "code",
      "metadata": {
        "colab": {
          "base_uri": "https://localhost:8080/"
        },
        "id": "SmMieNLnLgHP",
        "outputId": "b122349d-9e92-4e99-bd29-6e8c4bf5ab06"
      },
      "source": [
        "title_ratings.shape"
      ],
      "execution_count": 9,
      "outputs": [
        {
          "output_type": "execute_result",
          "data": {
            "text/plain": [
              "(1148911, 3)"
            ]
          },
          "metadata": {
            "tags": []
          },
          "execution_count": 9
        }
      ]
    },
    {
      "cell_type": "code",
      "metadata": {
        "colab": {
          "base_uri": "https://localhost:8080/",
          "height": 190
        },
        "id": "zgx1jrFtNyX9",
        "outputId": "415387f6-41bf-43bc-a6a2-93605cbf3c67"
      },
      "source": [
        "title_ratings.head()"
      ],
      "execution_count": 13,
      "outputs": [
        {
          "output_type": "execute_result",
          "data": {
            "text/html": [
              "<div>\n",
              "<style scoped>\n",
              "    .dataframe tbody tr th:only-of-type {\n",
              "        vertical-align: middle;\n",
              "    }\n",
              "\n",
              "    .dataframe tbody tr th {\n",
              "        vertical-align: top;\n",
              "    }\n",
              "\n",
              "    .dataframe thead th {\n",
              "        text-align: right;\n",
              "    }\n",
              "</style>\n",
              "<table border=\"1\" class=\"dataframe\">\n",
              "  <thead>\n",
              "    <tr style=\"text-align: right;\">\n",
              "      <th></th>\n",
              "      <th>tconst</th>\n",
              "      <th>averageRating</th>\n",
              "      <th>numVotes</th>\n",
              "    </tr>\n",
              "  </thead>\n",
              "  <tbody>\n",
              "    <tr>\n",
              "      <th>0</th>\n",
              "      <td>tt0000001</td>\n",
              "      <td>5.7</td>\n",
              "      <td>1698</td>\n",
              "    </tr>\n",
              "    <tr>\n",
              "      <th>1</th>\n",
              "      <td>tt0000002</td>\n",
              "      <td>6.1</td>\n",
              "      <td>211</td>\n",
              "    </tr>\n",
              "    <tr>\n",
              "      <th>2</th>\n",
              "      <td>tt0000003</td>\n",
              "      <td>6.5</td>\n",
              "      <td>1457</td>\n",
              "    </tr>\n",
              "    <tr>\n",
              "      <th>3</th>\n",
              "      <td>tt0000004</td>\n",
              "      <td>6.1</td>\n",
              "      <td>124</td>\n",
              "    </tr>\n",
              "    <tr>\n",
              "      <th>4</th>\n",
              "      <td>tt0000005</td>\n",
              "      <td>6.1</td>\n",
              "      <td>2256</td>\n",
              "    </tr>\n",
              "  </tbody>\n",
              "</table>\n",
              "</div>"
            ],
            "text/plain": [
              "      tconst  averageRating  numVotes\n",
              "0  tt0000001            5.7      1698\n",
              "1  tt0000002            6.1       211\n",
              "2  tt0000003            6.5      1457\n",
              "3  tt0000004            6.1       124\n",
              "4  tt0000005            6.1      2256"
            ]
          },
          "metadata": {
            "tags": []
          },
          "execution_count": 13
        }
      ]
    },
    {
      "cell_type": "markdown",
      "metadata": {
        "id": "0h6RsLLwTaPV"
      },
      "source": [
        "Notes des films, avec le nombre de votes. Très utile pour classifier nos films."
      ]
    }
  ]
}